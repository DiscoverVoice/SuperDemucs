{
 "cells": [
  {
   "cell_type": "code",
   "execution_count": 37,
   "id": "1c02c1a7-b33e-4f20-a7c2-db7743fd4c48",
   "metadata": {},
   "outputs": [],
   "source": [
    "import musdb\n",
    "import torch\n",
    "from torch.utils.data import Dataset, DataLoader\n",
    "import os\n",
    "import sys\n",
    "from torchaudio.datasets import MUSDB_HQ\n",
    "pwd = os.getcwd()\n",
    "sys.path.append(sys.path.append(os.path.dirname(pwd)))\n",
    "from utils.paths import p"
   ]
  },
  {
   "cell_type": "code",
   "execution_count": 48,
   "id": "f861d3ff-a730-4f94-a2a5-fe0b3a1bd2df",
   "metadata": {},
   "outputs": [],
   "source": [
    "class MUSDBDataset(Dataset):\n",
    "    def __init__(self, root, subset='train', download=True, targets=['vocals', 'drums', 'bass', 'other']):\n",
    "        self.musdb = musdb.DB(root=root, subsets=[subset], download=download)\n",
    "        self.tracks = self.musdb.tracks\n",
    "        self.targets = targets\n",
    "\n",
    "    def __len__(self):\n",
    "        return len(self.tracks)\n",
    "\n",
    "    def __getitem__(self, idx):\n",
    "        track = self.tracks[idx]\n",
    "        \n",
    "        audio_data = []\n",
    "        mixture_audio = track.audio.T\n",
    "        audio_data.append(torch.tensor(mixture_audio, dtype=torch.float32))\n",
    "        \n",
    "        for target in self.targets:\n",
    "            target_audio = track.targets[target].audio.T\n",
    "            audio_data.append(torch.tensor(target_audio, dtype=torch.float32))\n",
    "\n",
    "        audio_data = torch.stack(audio_data, dim=0)\n",
    "        sample_rate = track.rate\n",
    "        num_samples = track.audio.shape[0]\n",
    "        track_name = track.name\n",
    "        \n",
    "        return audio_data, sample_rate, num_samples, track_name"
   ]
  },
  {
   "cell_type": "code",
   "execution_count": 49,
   "id": "e6ef9e54-4be4-43a4-b704-ed9ab60b99fa",
   "metadata": {},
   "outputs": [],
   "source": [
    "def load_musdb(download=False, batch_size=4, shuffle=True):\n",
    "    train_dataset = MUSDBDataset(root=p.data_dir, subset='train', download=download)\n",
    "    test_dataset = MUSDBDataset(root=p.data_dir, subset='test', download=download)\n",
    "    train_dataloader = DataLoader(train_dataset, batch_size=4, shuffle=True)\n",
    "    test_dataloader = DataLoader(train_dataset, batch_size=4, shuffle=False)\n",
    "    return train_dataloader, test_dataloader"
   ]
  }
 ],
 "metadata": {
  "kernelspec": {
   "display_name": "Python 3 (ipykernel)",
   "language": "python",
   "name": "python3"
  },
  "language_info": {
   "codemirror_mode": {
    "name": "ipython",
    "version": 3
   },
   "file_extension": ".py",
   "mimetype": "text/x-python",
   "name": "python",
   "nbconvert_exporter": "python",
   "pygments_lexer": "ipython3",
   "version": "3.9.19"
  }
 },
 "nbformat": 4,
 "nbformat_minor": 5
}
