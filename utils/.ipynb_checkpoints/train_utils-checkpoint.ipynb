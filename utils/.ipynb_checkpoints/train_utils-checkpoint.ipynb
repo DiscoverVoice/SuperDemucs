{
 "cells": [
  {
   "cell_type": "code",
   "execution_count": 3,
   "id": "7c0b9279-d77f-4922-8ff0-291c053647a8",
   "metadata": {},
   "outputs": [],
   "source": [
    "import torch\n",
    "from bs_roformer import BSRoformer"
   ]
  },
  {
   "cell_type": "code",
   "execution_count": null,
   "id": "49cb4b1c-1bc9-4007-8aff-3952dca1c829",
   "metadata": {},
   "outputs": [],
   "source": [
    "def train_roformer():\n",
    "    model = BSRoformer(dim=512, depth=12, time_transformer_depth=1, freq_transformer_depth=1)"
   ]
  }
 ],
 "metadata": {
  "kernelspec": {
   "display_name": "Python 3 (ipykernel)",
   "language": "python",
   "name": "python3"
  },
  "language_info": {
   "codemirror_mode": {
    "name": "ipython",
    "version": 3
   },
   "file_extension": ".py",
   "mimetype": "text/x-python",
   "name": "python",
   "nbconvert_exporter": "python",
   "pygments_lexer": "ipython3",
   "version": "3.9.19"
  }
 },
 "nbformat": 4,
 "nbformat_minor": 5
}
