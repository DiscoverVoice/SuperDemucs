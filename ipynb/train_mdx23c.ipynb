{
 "cells": [
  {
   "cell_type": "code",
   "execution_count": 1,
   "id": "initial_id",
   "metadata": {},
   "outputs": [],
   "source": [
    "import os\n",
    "import sys\n",
    "sys.path.append(os.path.dirname(os.getcwd()))\n",
    "from utils.train import train_model\n",
    "from utils.config_utils import load_config"
   ]
  },
  {
   "cell_type": "code",
   "execution_count": 2,
   "id": "2b73af17-eca7-40f2-abf0-85e8d87abccd",
   "metadata": {},
   "outputs": [],
   "source": [
    "device = 'cuda:0'\n",
    "cfg = load_config('train_config.yaml')\n",
    "cfg.model_type = 'mdx23c'\n",
    "cfg.config_path = 'Configs/mdx23c_config.yaml'\n",
    "cfg.results_path = 'Results/mdx23c'\n",
    "cfg.data_path = 'Datasets/musdb18hq/train'\n",
    "cfg.num_workers = 4\n",
    "cfg.valid_path = 'Datasets/musdb18hq/valid'\n",
    "cfg.seed = 44\n",
    "cfg.start_check_point = 'Results/model_mdx23c(after prune).ckpt'"
   ]
  },
  {
   "cell_type": "code",
   "execution_count": 3,
   "id": "615560b0-a979-43b5-9510-5449a994b630",
   "metadata": {},
   "outputs": [
    {
     "name": "stdout",
     "output_type": "stream",
     "text": [
      "Instruments: ['vocals', 'other']\n",
      "Use augmentation for training\n",
      "Loading songs data from cache: Results/mdx23c/metadata_train.pkl. If you updated dataset remove metadata_train.pkl before training!\n",
      "Found tracks in dataset: 80\n",
      "Start from checkpoint: Results/model_mdx23c(after prune).ckpt\n",
      "Use single GPU: [0]\n",
      "Patience: 2 Reduce factor: 0.95 Batch size: 6 Grad accum steps: 1 Effective batch size: 6\n",
      "Train for: 1000\n",
      "Train epoch: 0 Learning rate: 9e-05\n"
     ]
    },
    {
     "name": "stderr",
     "output_type": "stream",
     "text": [
      "100%|██████████| 1000/1000 [28:09<00:00,  1.69s/it, loss=0.011, avg_loss=0.0106]  \n"
     ]
    },
    {
     "name": "stdout",
     "output_type": "stream",
     "text": [
      "Training loss: 0.000106\n"
     ]
    },
    {
     "name": "stderr",
     "output_type": "stream",
     "text": [
      "100%|██████████| 20/20 [07:02<00:00, 21.13s/it, sdr_vocals=7.23, sdr_other=18.2]\n"
     ]
    },
    {
     "name": "stdout",
     "output_type": "stream",
     "text": [
      "Instr SDR vocals: 9.5171\n",
      "Instr SDR other: 15.9706\n",
      "SDR Avg: 12.7438\n",
      "Store weights: Results/mdx23c/model_mdx23c_ep_0_sdr_12.7438.ckpt\n",
      "Train epoch: 1 Learning rate: 9e-05\n"
     ]
    },
    {
     "name": "stderr",
     "output_type": "stream",
     "text": [
      "100%|██████████| 1000/1000 [31:48<00:00,  1.91s/it, loss=0.00493, avg_loss=0.0104]\n"
     ]
    },
    {
     "name": "stdout",
     "output_type": "stream",
     "text": [
      "Training loss: 0.000104\n"
     ]
    },
    {
     "name": "stderr",
     "output_type": "stream",
     "text": [
      "100%|██████████| 20/20 [10:39<00:00, 31.95s/it, sdr_vocals=7.08, sdr_other=18]  \n"
     ]
    },
    {
     "name": "stdout",
     "output_type": "stream",
     "text": [
      "Instr SDR vocals: 9.4269\n",
      "Instr SDR other: 15.8727\n",
      "SDR Avg: 12.6498\n",
      "Train epoch: 2 Learning rate: 9e-05\n"
     ]
    },
    {
     "name": "stderr",
     "output_type": "stream",
     "text": [
      "100%|██████████| 1000/1000 [41:49<00:00,  2.51s/it, loss=0.00605, avg_loss=0.0112]\n"
     ]
    },
    {
     "name": "stdout",
     "output_type": "stream",
     "text": [
      "Training loss: 0.000112\n"
     ]
    },
    {
     "name": "stderr",
     "output_type": "stream",
     "text": [
      "100%|██████████| 20/20 [08:59<00:00, 26.99s/it, sdr_vocals=4.81, sdr_other=15.8]\n"
     ]
    },
    {
     "name": "stdout",
     "output_type": "stream",
     "text": [
      "Instr SDR vocals: 7.7096\n",
      "Instr SDR other: 14.1697\n",
      "SDR Avg: 10.9397\n",
      "Train epoch: 3 Learning rate: 9e-05\n"
     ]
    },
    {
     "name": "stderr",
     "output_type": "stream",
     "text": [
      "100%|██████████| 1000/1000 [38:06<00:00,  2.29s/it, loss=0.0123, avg_loss=0.00967]\n"
     ]
    },
    {
     "name": "stdout",
     "output_type": "stream",
     "text": [
      "Training loss: 0.000097\n"
     ]
    },
    {
     "name": "stderr",
     "output_type": "stream",
     "text": [
      "100%|██████████| 20/20 [08:25<00:00, 25.30s/it, sdr_vocals=6.42, sdr_other=17.4]\n"
     ]
    },
    {
     "name": "stdout",
     "output_type": "stream",
     "text": [
      "Instr SDR vocals: 9.7314\n",
      "Instr SDR other: 16.1847\n",
      "SDR Avg: 12.9580\n",
      "Store weights: Results/mdx23c/model_mdx23c_ep_3_sdr_12.9580.ckpt\n",
      "Train epoch: 4 Learning rate: 9e-05\n"
     ]
    },
    {
     "name": "stderr",
     "output_type": "stream",
     "text": [
      "100%|██████████| 1000/1000 [38:04<00:00,  2.28s/it, loss=0.0106, avg_loss=0.00953] \n"
     ]
    },
    {
     "name": "stdout",
     "output_type": "stream",
     "text": [
      "Training loss: 0.000095\n"
     ]
    },
    {
     "name": "stderr",
     "output_type": "stream",
     "text": [
      "100%|██████████| 20/20 [08:54<00:00, 26.75s/it, sdr_vocals=7.5, sdr_other=18.5] \n"
     ]
    },
    {
     "name": "stdout",
     "output_type": "stream",
     "text": [
      "Instr SDR vocals: 9.6129\n",
      "Instr SDR other: 16.0666\n",
      "SDR Avg: 12.8398\n",
      "Train epoch: 5 Learning rate: 9e-05\n"
     ]
    },
    {
     "name": "stderr",
     "output_type": "stream",
     "text": [
      "100%|██████████| 1000/1000 [41:25<00:00,  2.49s/it, loss=0.00764, avg_loss=0.0111]\n"
     ]
    },
    {
     "name": "stdout",
     "output_type": "stream",
     "text": [
      "Training loss: 0.000111\n"
     ]
    },
    {
     "name": "stderr",
     "output_type": "stream",
     "text": [
      "100%|██████████| 20/20 [09:45<00:00, 29.26s/it, sdr_vocals=6.71, sdr_other=17.7]\n"
     ]
    },
    {
     "name": "stdout",
     "output_type": "stream",
     "text": [
      "Instr SDR vocals: 8.1269\n",
      "Instr SDR other: 14.5822\n",
      "SDR Avg: 11.3546\n",
      "Train epoch: 6 Learning rate: 9e-05\n"
     ]
    },
    {
     "name": "stderr",
     "output_type": "stream",
     "text": [
      " 26%|██▌       | 257/1000 [10:51<31:22,  2.53s/it, loss=0.00922, avg_loss=0.0107]\n"
     ]
    },
    {
     "name": "stdout",
     "output_type": "stream",
     "text": [
      "Unexpected exception formatting exception. Falling back to standard exception\n"
     ]
    },
    {
     "name": "stderr",
     "output_type": "stream",
     "text": [
      "Traceback (most recent call last):\n",
      "  File \"/home/Minwoo/.conda/envs/SuperDemucs/lib/python3.9/site-packages/IPython/core/interactiveshell.py\", line 3550, in run_code\n",
      "    exec(code_obj, self.user_global_ns, self.user_ns)\n",
      "  File \"/tmp/ipykernel_3255830/1508330761.py\", line 1, in <module>\n",
      "    train_model(cfg)\n",
      "  File \"/home/Minwoo/Github/DiscoverVoice/SuperDemucs/utils/train.py\", line 343, in train_model\n",
      "  File \"/home/Minwoo/.conda/envs/SuperDemucs/lib/python3.9/site-packages/torch/_tensor.py\", line 487, in backward\n",
      "    torch.autograd.backward(\n",
      "  File \"/home/Minwoo/.conda/envs/SuperDemucs/lib/python3.9/site-packages/torch/autograd/__init__.py\", line 200, in backward\n",
      "    Variable._execution_engine.run_backward(  # Calls into the C++ engine to run the backward pass\n",
      "KeyboardInterrupt\n",
      "\n",
      "During handling of the above exception, another exception occurred:\n",
      "\n",
      "Traceback (most recent call last):\n",
      "  File \"/home/Minwoo/.conda/envs/SuperDemucs/lib/python3.9/site-packages/IPython/core/interactiveshell.py\", line 2144, in showtraceback\n",
      "    stb = self.InteractiveTB.structured_traceback(\n",
      "  File \"/home/Minwoo/.conda/envs/SuperDemucs/lib/python3.9/site-packages/IPython/core/ultratb.py\", line 1435, in structured_traceback\n",
      "    return FormattedTB.structured_traceback(\n",
      "  File \"/home/Minwoo/.conda/envs/SuperDemucs/lib/python3.9/site-packages/IPython/core/ultratb.py\", line 1326, in structured_traceback\n",
      "    return VerboseTB.structured_traceback(\n",
      "  File \"/home/Minwoo/.conda/envs/SuperDemucs/lib/python3.9/site-packages/IPython/core/ultratb.py\", line 1173, in structured_traceback\n",
      "    formatted_exception = self.format_exception_as_a_whole(etype, evalue, etb, number_of_lines_of_context,\n",
      "  File \"/home/Minwoo/.conda/envs/SuperDemucs/lib/python3.9/site-packages/IPython/core/ultratb.py\", line 1088, in format_exception_as_a_whole\n",
      "    frames.append(self.format_record(record))\n",
      "  File \"/home/Minwoo/.conda/envs/SuperDemucs/lib/python3.9/site-packages/IPython/core/ultratb.py\", line 970, in format_record\n",
      "    frame_info.lines, Colors, self.has_colors, lvals\n",
      "  File \"/home/Minwoo/.conda/envs/SuperDemucs/lib/python3.9/site-packages/IPython/core/ultratb.py\", line 792, in lines\n",
      "    return self._sd.lines\n",
      "  File \"/home/Minwoo/.conda/envs/SuperDemucs/lib/python3.9/site-packages/stack_data/utils.py\", line 144, in cached_property_wrapper\n",
      "    value = obj.__dict__[self.func.__name__] = self.func(obj)\n",
      "  File \"/home/Minwoo/.conda/envs/SuperDemucs/lib/python3.9/site-packages/stack_data/core.py\", line 734, in lines\n",
      "    pieces = self.included_pieces\n",
      "  File \"/home/Minwoo/.conda/envs/SuperDemucs/lib/python3.9/site-packages/stack_data/utils.py\", line 144, in cached_property_wrapper\n",
      "    value = obj.__dict__[self.func.__name__] = self.func(obj)\n",
      "  File \"/home/Minwoo/.conda/envs/SuperDemucs/lib/python3.9/site-packages/stack_data/core.py\", line 681, in included_pieces\n",
      "    pos = scope_pieces.index(self.executing_piece)\n",
      "  File \"/home/Minwoo/.conda/envs/SuperDemucs/lib/python3.9/site-packages/stack_data/utils.py\", line 144, in cached_property_wrapper\n",
      "    value = obj.__dict__[self.func.__name__] = self.func(obj)\n",
      "  File \"/home/Minwoo/.conda/envs/SuperDemucs/lib/python3.9/site-packages/stack_data/core.py\", line 660, in executing_piece\n",
      "    return only(\n",
      "  File \"/home/Minwoo/.conda/envs/SuperDemucs/lib/python3.9/site-packages/executing/executing.py\", line 116, in only\n",
      "    raise NotOneValueFound('Expected one value, found 0')\n",
      "executing.executing.NotOneValueFound: Expected one value, found 0\n"
     ]
    }
   ],
   "source": [
    "train_model(cfg)"
   ]
  }
 ],
 "metadata": {
  "kernelspec": {
   "display_name": "Python 3 (ipykernel)",
   "language": "python",
   "name": "python3"
  },
  "language_info": {
   "codemirror_mode": {
    "name": "ipython",
    "version": 3
   },
   "file_extension": ".py",
   "mimetype": "text/x-python",
   "name": "python",
   "nbconvert_exporter": "python",
   "pygments_lexer": "ipython3",
   "version": "3.9.19"
  }
 },
 "nbformat": 4,
 "nbformat_minor": 5
}
