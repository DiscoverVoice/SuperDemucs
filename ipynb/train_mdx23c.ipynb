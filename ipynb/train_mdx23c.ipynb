{
 "cells": [
  {
   "cell_type": "code",
   "execution_count": 1,
   "id": "initial_id",
   "metadata": {},
   "outputs": [],
   "source": [
    "import os\n",
    "import sys\n",
    "sys.path.append(os.path.dirname(os.getcwd()))\n",
    "from utils.train import train_model\n",
    "from utils.config_utils import load_config"
   ]
  },
  {
   "cell_type": "code",
   "execution_count": 2,
   "id": "2b73af17-eca7-40f2-abf0-85e8d87abccd",
   "metadata": {},
   "outputs": [],
   "source": [
    "device = 'cuda:0'\n",
    "cfg = load_config('train_config.yaml')\n",
    "cfg.model_type = 'mdx23c'\n",
    "cfg.config_path = 'Configs/mdx23c_config.yaml'\n",
    "cfg.results_path = 'Results/mdx23c'\n",
    "cfg.data_path = 'Datasets/musdb18hq/train'\n",
    "cfg.num_workers = 4\n",
    "cfg.valid_path = 'Datasets/musdb18hq/valid'\n",
    "cfg.seed = 44\n",
    "cfg.start_check_point = 'Results/model_mdx23c(after prune).ckpt'"
   ]
  },
  {
   "cell_type": "code",
   "execution_count": null,
   "id": "615560b0-a979-43b5-9510-5449a994b630",
   "metadata": {},
   "outputs": [
    {
     "name": "stdout",
     "output_type": "stream",
     "text": [
      "Instruments: ['vocals', 'other']\n",
      "Use augmentation for training\n",
      "Collecting metadata for Datasets/musdb18hq/train Dataset type: 1\n"
     ]
    },
    {
     "name": "stderr",
     "output_type": "stream",
     "text": [
      "100%|██████████| 80/80 [00:07<00:00, 11.29it/s]\n"
     ]
    },
    {
     "name": "stdout",
     "output_type": "stream",
     "text": [
      "Found tracks in dataset: 80\n",
      "Start from checkpoint: Results/model_mdx23c(after prune).ckpt\n",
      "Use single GPU: [0]\n",
      "Patience: 2 Reduce factor: 0.95 Batch size: 6 Grad accum steps: 1 Effective batch size: 6\n",
      "Train for: 1000\n",
      "Train epoch: 0 Learning rate: 9e-05\n"
     ]
    },
    {
     "name": "stderr",
     "output_type": "stream",
     "text": [
      " 14%|█▍        | 141/1000 [03:29<18:38,  1.30s/it, loss=0.0051, avg_loss=0.0109]  "
     ]
    }
   ],
   "source": [
    "train_model(cfg)"
   ]
  }
 ],
 "metadata": {
  "kernelspec": {
   "display_name": "Python 3 (ipykernel)",
   "language": "python",
   "name": "python3"
  },
  "language_info": {
   "codemirror_mode": {
    "name": "ipython",
    "version": 3
   },
   "file_extension": ".py",
   "mimetype": "text/x-python",
   "name": "python",
   "nbconvert_exporter": "python",
   "pygments_lexer": "ipython3",
   "version": "3.9.19"
  }
 },
 "nbformat": 4,
 "nbformat_minor": 5
}
