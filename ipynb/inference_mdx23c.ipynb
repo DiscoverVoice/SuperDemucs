{
 "cells": [
  {
   "cell_type": "code",
   "execution_count": 1,
   "id": "a10f06f7-99c9-4215-b015-64121f1dd635",
   "metadata": {},
   "outputs": [],
   "source": [
    "import os\n",
    "import sys\n",
    "sys.path.append(os.path.dirname(os.getcwd()))"
   ]
  },
  {
   "cell_type": "code",
   "execution_count": 2,
   "id": "cdbc049b-56e4-436d-b5a5-77ef3126f322",
   "metadata": {},
   "outputs": [],
   "source": [
    "from utils.audio_utils import convert_mp3_to_wav, get_audio_list, convert_mp3_to_wav\n",
    "from utils.paths import p"
   ]
  },
  {
   "cell_type": "code",
   "execution_count": 3,
   "id": "30c911ce-51bf-4350-8a55-8b903bb0c9e9",
   "metadata": {
    "scrolled": true
   },
   "outputs": [],
   "source": [
    "from utils.inference import proc_folder"
   ]
  },
  {
   "cell_type": "code",
   "execution_count": null,
   "id": "0a361a09-58a1-4634-ab7b-ddf8ff2cc3a5",
   "metadata": {},
   "outputs": [],
   "source": [
    "dir_name = 'part'\n",
    "mp3_root = p.Datasets / dir_name\n",
    "mp3_files = get_audio_list(mp3_root, audio_type = '.mp3')"
   ]
  },
  {
   "cell_type": "code",
   "execution_count": null,
   "id": "528b5921-fac8-4c9e-8313-4206e4aec56c",
   "metadata": {},
   "outputs": [],
   "source": [
    "# mp3_files = mp3_files[:100]\n",
    "output_dir = p.Datasets / 'wav' / dir_name\n",
    "convert_mp3_to_wav(mp3_files, output_dir)"
   ]
  },
  {
   "cell_type": "code",
   "execution_count": 5,
   "id": "f7bf049e-e7dd-4cd6-830e-6ead98186f21",
   "metadata": {},
   "outputs": [
    {
     "name": "stdout",
     "output_type": "stream",
     "text": [
      "Start from checkpoint: Results/mdx23c/model_mdx23c_ep_3_sdr_12.9580.ckpt\n",
      "Instruments: ['vocals', 'other']\n",
      "Total files found: 68\n"
     ]
    },
    {
     "name": "stderr",
     "output_type": "stream",
     "text": [
      "100%|██████████| 68/68 [29:11<00:00, 25.75s/it, track=권진아-멜로디.wav]                                                 \n"
     ]
    },
    {
     "name": "stdout",
     "output_type": "stream",
     "text": [
      "Elapsed time: 1752.32 sec\n",
      "Deleted /home/Minwoo/Github/DiscoverVoice/SuperDemucs/Datasets/wav/part/성시경-날위한이별.wav\n",
      "Deleted /home/Minwoo/Github/DiscoverVoice/SuperDemucs/Datasets/wav/part/벤-벤 BEN - 혼술하고 싶은 밤 Lonely night Official M_V.wav\n",
      "Deleted /home/Minwoo/Github/DiscoverVoice/SuperDemucs/Datasets/wav/part/비오-Counting Stars.wav\n",
      "Deleted /home/Minwoo/Github/DiscoverVoice/SuperDemucs/Datasets/wav/part/양다일-My Love (My Love).wav\n",
      "Deleted /home/Minwoo/Github/DiscoverVoice/SuperDemucs/Datasets/wav/part/박원-찢어주세요.wav\n",
      "Deleted /home/Minwoo/Github/DiscoverVoice/SuperDemucs/Datasets/wav/part/양요섭-왜 모르니 Why don_t you know.wav\n",
      "Deleted /home/Minwoo/Github/DiscoverVoice/SuperDemucs/Datasets/wav/part/김동률-Reply.wav\n",
      "Deleted /home/Minwoo/Github/DiscoverVoice/SuperDemucs/Datasets/wav/part/성시경-오, 사랑.wav\n",
      "Deleted /home/Minwoo/Github/DiscoverVoice/SuperDemucs/Datasets/wav/part/로제-Hard to Love.wav\n",
      "Deleted /home/Minwoo/Github/DiscoverVoice/SuperDemucs/Datasets/wav/part/양다일-Love (미워하며 사랑하는 일).wav\n",
      "Deleted /home/Minwoo/Github/DiscoverVoice/SuperDemucs/Datasets/wav/part/멜로망스-동화.wav\n",
      "Deleted /home/Minwoo/Github/DiscoverVoice/SuperDemucs/Datasets/wav/part/박원-Together Till The End (끝까지 갈래요).wav\n",
      "Deleted /home/Minwoo/Github/DiscoverVoice/SuperDemucs/Datasets/wav/part/빅마마-태우다.wav\n",
      "Deleted /home/Minwoo/Github/DiscoverVoice/SuperDemucs/Datasets/wav/part/백지영-Please,Don_t forget me(잊지말아요).wav\n",
      "Deleted /home/Minwoo/Github/DiscoverVoice/SuperDemucs/Datasets/wav/part/멜로망스-사랑인가 봐.wav\n",
      "Deleted /home/Minwoo/Github/DiscoverVoice/SuperDemucs/Datasets/wav/part/김동률-동행.wav\n",
      "Deleted /home/Minwoo/Github/DiscoverVoice/SuperDemucs/Datasets/wav/part/김나영-꺼내본다.wav\n",
      "Deleted /home/Minwoo/Github/DiscoverVoice/SuperDemucs/Datasets/wav/part/김필-어느 날 우리.wav\n",
      "Deleted /home/Minwoo/Github/DiscoverVoice/SuperDemucs/Datasets/wav/part/솔지-The Trace You Left (네가 남긴 흔적).wav\n",
      "Deleted /home/Minwoo/Github/DiscoverVoice/SuperDemucs/Datasets/wav/part/백예린-Dear my blue.wav\n",
      "Deleted /home/Minwoo/Github/DiscoverVoice/SuperDemucs/Datasets/wav/part/알리-지우개.wav\n",
      "Deleted /home/Minwoo/Github/DiscoverVoice/SuperDemucs/Datasets/wav/part/빅마마-연 捐.wav\n",
      "Deleted /home/Minwoo/Github/DiscoverVoice/SuperDemucs/Datasets/wav/part/박보람-애쓰지 마요.wav\n",
      "Deleted /home/Minwoo/Github/DiscoverVoice/SuperDemucs/Datasets/wav/part/박혜원-그런일은 (그런일은).wav\n",
      "Deleted /home/Minwoo/Github/DiscoverVoice/SuperDemucs/Datasets/wav/part/선우정아-Cat (feat. IU).wav\n",
      "Deleted /home/Minwoo/Github/DiscoverVoice/SuperDemucs/Datasets/wav/part/멜로망스-Happy Song.wav\n",
      "Deleted /home/Minwoo/Github/DiscoverVoice/SuperDemucs/Datasets/wav/part/박효신-기억 속의 먼 그대에게.wav\n",
      "Deleted /home/Minwoo/Github/DiscoverVoice/SuperDemucs/Datasets/wav/part/산들-여름날 여름밤(Summer day Summer night).wav\n",
      "Deleted /home/Minwoo/Github/DiscoverVoice/SuperDemucs/Datasets/wav/part/에릭남-Paradise.wav\n",
      "Deleted /home/Minwoo/Github/DiscoverVoice/SuperDemucs/Datasets/wav/part/백지영-총맞은것처럼(Like Being Shot by a bullet).wav\n",
      "Deleted /home/Minwoo/Github/DiscoverVoice/SuperDemucs/Datasets/wav/part/박원-Try(노력).wav\n",
      "Deleted /home/Minwoo/Github/DiscoverVoice/SuperDemucs/Datasets/wav/part/솔지-I believed it was love.wav\n",
      "Deleted /home/Minwoo/Github/DiscoverVoice/SuperDemucs/Datasets/wav/part/박혜원-The Lonely Bloom Stands Alone (시든 꽃에 물을 주듯).wav\n",
      "Deleted /home/Minwoo/Github/DiscoverVoice/SuperDemucs/Datasets/wav/part/백현-Hello.wav\n",
      "Deleted /home/Minwoo/Github/DiscoverVoice/SuperDemucs/Datasets/wav/part/문문-Eden (에덴).wav\n",
      "Deleted /home/Minwoo/Github/DiscoverVoice/SuperDemucs/Datasets/wav/part/에릭남-Good-bye in once upon a time (오래전 안녕).wav\n",
      "Deleted /home/Minwoo/Github/DiscoverVoice/SuperDemucs/Datasets/wav/part/벤-Love Recipe.wav\n",
      "Deleted /home/Minwoo/Github/DiscoverVoice/SuperDemucs/Datasets/wav/part/백현-All I Got.wav\n",
      "Deleted /home/Minwoo/Github/DiscoverVoice/SuperDemucs/Datasets/wav/part/양다일-regret (곁에 있는 너).wav\n",
      "Deleted /home/Minwoo/Github/DiscoverVoice/SuperDemucs/Datasets/wav/part/박혜원-To You.wav\n",
      "Deleted /home/Minwoo/Github/DiscoverVoice/SuperDemucs/Datasets/wav/part/멜로망스-고백.wav\n",
      "Deleted /home/Minwoo/Github/DiscoverVoice/SuperDemucs/Datasets/wav/part/선우정아-도망가자.wav\n",
      "Deleted /home/Minwoo/Github/DiscoverVoice/SuperDemucs/Datasets/wav/part/기리보이-Bitter Words (심한말).wav\n",
      "Deleted /home/Minwoo/Github/DiscoverVoice/SuperDemucs/Datasets/wav/part/양다일-Alone (나만 이렇게).wav\n",
      "Deleted /home/Minwoo/Github/DiscoverVoice/SuperDemucs/Datasets/wav/part/권진아-진심이었던 사람만 바보가 돼.wav\n",
      "Deleted /home/Minwoo/Github/DiscoverVoice/SuperDemucs/Datasets/wav/part/마크튭-너를 부르는 바람.wav\n",
      "Deleted /home/Minwoo/Github/DiscoverVoice/SuperDemucs/Datasets/wav/part/수호-커튼 Curtain.wav\n",
      "Deleted /home/Minwoo/Github/DiscoverVoice/SuperDemucs/Datasets/wav/part/수호-Call me a Freak.wav\n",
      "Deleted /home/Minwoo/Github/DiscoverVoice/SuperDemucs/Datasets/wav/part/솔지-So Far Away.wav\n",
      "Deleted /home/Minwoo/Github/DiscoverVoice/SuperDemucs/Datasets/wav/part/문문-Tree.wav\n",
      "Deleted /home/Minwoo/Github/DiscoverVoice/SuperDemucs/Datasets/wav/part/송민호-이유 없는 상실감에 대하여 (Lost In A Crowd).wav\n",
      "Deleted /home/Minwoo/Github/DiscoverVoice/SuperDemucs/Datasets/wav/part/양요섭-남자라 울지 못했어.wav\n",
      "Deleted /home/Minwoo/Github/DiscoverVoice/SuperDemucs/Datasets/wav/part/벤-Memory.wav\n",
      "Deleted /home/Minwoo/Github/DiscoverVoice/SuperDemucs/Datasets/wav/part/백예린-Zero.wav\n",
      "Deleted /home/Minwoo/Github/DiscoverVoice/SuperDemucs/Datasets/wav/part/문문-Song.wav\n",
      "Deleted /home/Minwoo/Github/DiscoverVoice/SuperDemucs/Datasets/wav/part/성시경-당신에겐 특별한 뭔가가 있어요.wav\n",
      "Deleted /home/Minwoo/Github/DiscoverVoice/SuperDemucs/Datasets/wav/part/에릭남-Sudden Rain (소나기).wav\n",
      "Deleted /home/Minwoo/Github/DiscoverVoice/SuperDemucs/Datasets/wav/part/박효신-눈의 꽃.wav\n",
      "Deleted /home/Minwoo/Github/DiscoverVoice/SuperDemucs/Datasets/wav/part/규현-광화문에서 At Gwanghwamun.wav\n",
      "Deleted /home/Minwoo/Github/DiscoverVoice/SuperDemucs/Datasets/wav/part/양요섭-Promise (마음).wav\n",
      "Deleted /home/Minwoo/Github/DiscoverVoice/SuperDemucs/Datasets/wav/part/다비치-슬픈 사랑의 노래.wav\n",
      "Deleted /home/Minwoo/Github/DiscoverVoice/SuperDemucs/Datasets/wav/part/릴러말즈-You.wav\n",
      "Deleted /home/Minwoo/Github/DiscoverVoice/SuperDemucs/Datasets/wav/part/벤-나쁜 놈 Bad.wav\n",
      "Deleted /home/Minwoo/Github/DiscoverVoice/SuperDemucs/Datasets/wav/part/백예린-As I am.wav\n",
      "Deleted /home/Minwoo/Github/DiscoverVoice/SuperDemucs/Datasets/wav/part/멜로망스-욕심.wav\n",
      "Deleted /home/Minwoo/Github/DiscoverVoice/SuperDemucs/Datasets/wav/part/양다일-won’t you say it (잘 지내고 있는 거니).wav\n",
      "Deleted /home/Minwoo/Github/DiscoverVoice/SuperDemucs/Datasets/wav/part/선우정아-구애 (求愛).wav\n",
      "Deleted /home/Minwoo/Github/DiscoverVoice/SuperDemucs/Datasets/wav/part/권진아-멜로디.wav\n"
     ]
    }
   ],
   "source": [
    "wav_files = get_audio_list(output_dir, audio_type = '.wav')\n",
    "model_type = 'mdx23c'\n",
    "config_path = 'Configs/mdx23c_config.yaml'\n",
    "start_check_point = 'Results/mdx23c/model_mdx23c_ep_3_sdr_12.9580.ckpt'\n",
    "input_folder = 'Datasets/wav/part'\n",
    "store_dir = 'Results/mdx23c/wav'\n",
    "device_ids = [0]\n",
    "extract_instrumental = True\n",
    "\n",
    "proc_folder(model_type, config_path, start_check_point, input_folder, store_dir, device_ids, extract_instrumental)\n",
    "for wav_file in wav_files:\n",
    "    file_path = os.path.join(output_dir, wav_file)\n",
    "    if os.path.isfile(file_path):\n",
    "        os.remove(file_path)\n",
    "        print(f\"Deleted {file_path}\")"
   ]
  },
  {
   "cell_type": "code",
   "execution_count": null,
   "id": "52c8a837-2aee-4a0c-8792-a99d90a97919",
   "metadata": {},
   "outputs": [],
   "source": []
  }
 ],
 "metadata": {
  "kernelspec": {
   "display_name": "Python 3 (ipykernel)",
   "language": "python",
   "name": "python3"
  },
  "language_info": {
   "codemirror_mode": {
    "name": "ipython",
    "version": 3
   },
   "file_extension": ".py",
   "mimetype": "text/x-python",
   "name": "python",
   "nbconvert_exporter": "python",
   "pygments_lexer": "ipython3",
   "version": "3.9.19"
  }
 },
 "nbformat": 4,
 "nbformat_minor": 5
}
