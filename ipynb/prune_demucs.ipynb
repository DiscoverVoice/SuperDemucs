{
 "cells": [
  {
   "metadata": {},
   "cell_type": "code",
   "outputs": [],
   "execution_count": null,
   "source": [
    "import torch\n",
    "import copy\n",
    "import numpy as np\n",
    "import os\n",
    "import logging\n",
    "from utils.prune_utils.concern_identification import ConcernIdentification\n",
    "from utils.prune_utils.weight_remover import WeightRemover\n",
    "from utils.dataset import load_data\n",
    "from utils.train import valid, load_not_compatible_weights, get_model_from_config\n",
    "from utils.config_utils import load_config\n",
    "from utils.paths import p\n",
    "from utils.logger import stdio2logs"
   ],
   "id": "e184d6058273d6a3"
  },
  {
   "metadata": {},
   "cell_type": "code",
   "outputs": [],
   "execution_count": null,
   "source": [
    "logging.basicConfig(filename=os.path.join(p.Logs, 'pruning_demucs.log'),\n",
    "                    level=logging.INFO,\n",
    "                    format='%(asctime)s - %(levelname)s - %(message)s')"
   ],
   "id": "5335f27b03c46390"
  },
  {
   "metadata": {},
   "cell_type": "code",
   "outputs": [],
   "execution_count": null,
   "source": [
    "torch.backends.cudnn.benchmark = True\n",
    "torch.backends.cudnn.deterministic = False\n",
    "torch.multiprocessing.set_start_method('spawn')"
   ],
   "id": "f43592c720f1afb6"
  },
  {
   "metadata": {},
   "cell_type": "code",
   "outputs": [],
   "execution_count": null,
   "source": [
    "stdio2logs()\n",
    "logging.info(\"Starting the pruning script\")\n",
    "device = 'cuda:0'\n",
    "cfg = load_config('train_config.yaml')\n",
    "cfg.model_type = 'htdemucs'\n",
    "cfg.config_path = 'Configs/htdemucs_config.yaml'\n",
    "cfg.results_path = 'Results/'\n",
    "cfg.data_path = 'Datasets/musdb18hq/train'\n",
    "cfg.num_workers = 0\n",
    "cfg.valid_path = 'Datasets/musdb18hq/valid'\n",
    "cfg.seed = 44\n",
    "cfg.start_check_point = 'Results/model_htdemucs(before prune).ckpt'\n",
    "\n",
    "logging.info(\"Loading model and configuration\")\n",
    "htdemucs, htdemucs_config = get_model_from_config(cfg.model_type, cfg.config_path)\n",
    "use_amp = htdemucs_config.training.get('use_amp', True)\n",
    "load_not_compatible_weights(htdemucs, cfg.start_check_point, verbose=False)\n",
    "htdemucs = htdemucs.to(device)\n",
    "\n",
    "logging.info(\"Loading data\")\n",
    "train_dataloader, valid_dataloader, test_dataloader = load_data(htdemucs_config, cfg, 2)\n",
    "\n",
    "ref_htdemucs = copy.deepcopy(htdemucs)\n",
    "weight_remover = WeightRemover(htdemucs, device, 0.9)\n",
    "\n",
    "logging.info(\"Start pruning\")\n",
    "for idx in range(10):\n",
    "    tr = torch.tensor(np.random.rand(2, 2, 485100), dtype=torch.float32).to(device)\n",
    "    with torch.no_grad():\n",
    "        y_ = weight_remover.process(tr)\n",
    "    weight_remover.apply_removal()\n",
    "valid(htdemucs, cfg, htdemucs_config, device)\n",
    "\n",
    "logging.info(\"Concern Identification\")\n",
    "ci = ConcernIdentification(ref_htdemucs, htdemucs, device, 0.7)\n",
    "_, temp_config = get_model_from_config(cfg.model_type, cfg.config_path)\n",
    "temp_config.training.instruments = [\"vocals\"]\n",
    "temp_dataloader, _, _ = load_data(temp_config, cfg, 2)\n",
    "\n",
    "for i, (batch, mixes) in enumerate(temp_dataloader):\n",
    "    y = batch.to(device)\n",
    "    x = mixes.to(device)\n",
    "    with torch.no_grad():\n",
    "        ci.process(x)\n",
    "    ci.apply_prune()\n",
    "    if i > 100:\n",
    "        break\n",
    "\n",
    "store_path = os.path.join(cfg.results_path, f'model_htdemucs(after prune).ckpt')\n",
    "state_dict = htdemucs.state_dict()\n",
    "torch.save(state_dict, store_path)\n",
    "logging.info(\"Pruning script finished successfully\")"
   ],
   "id": "69d36f45107dd040"
  }
 ],
 "metadata": {
  "kernelspec": {
   "display_name": "Python 3 (ipykernel)",
   "language": "python",
   "name": "python3"
  },
  "language_info": {
   "codemirror_mode": {
    "name": "ipython",
    "version": 3
   },
   "file_extension": ".py",
   "mimetype": "text/x-python",
   "name": "python",
   "nbconvert_exporter": "python",
   "pygments_lexer": "ipython3",
   "version": "3.9.19"
  }
 },
 "nbformat": 4,
 "nbformat_minor": 5
}
