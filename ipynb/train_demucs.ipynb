{
 "cells": [
  {
   "cell_type": "code",
   "execution_count": 1,
   "id": "7d47eaa3-1d6a-4102-b551-2757e83c91a8",
   "metadata": {},
   "outputs": [],
   "source": [
    "import torch\n",
    "import copy\n",
    "import numpy as np\n",
    "from tqdm import tqdm\n",
    "import os\n",
    "from utils.prune_utils.concern_identification import ConcernIdentification\n",
    "from utils.prune_utils.weight_remover import WeightRemover\n",
    "from utils.dataset import download_musdb, load_data\n",
    "from utils.train import train_model, valid, load_not_compatible_weights, get_model_from_config\n",
    "from utils.config_utils import load_config"
   ]
  },
  {
   "cell_type": "code",
   "execution_count": 2,
   "id": "49f04eab-d80e-47d0-8041-eecd71dfed02",
   "metadata": {},
   "outputs": [],
   "source": [
    "device = 'cuda:0'\n",
    "cfg = load_config('train_config.yaml')\n",
    "cfg.model_type = 'htdemucs'\n",
    "cfg.config_path = 'Configs/htdemucs_config.yaml'\n",
    "cfg.results_path = 'Results/'\n",
    "cfg.data_path = 'Datasets/musdb18hq/train'\n",
    "cfg.num_workers = 4\n",
    "cfg.valid_path = 'Datasets/musdb18hq/valid'\n",
    "cfg.seed = 44\n",
    "cfg.start_check_point = 'Results/model_htdemucs(after prune).ckpt'"
   ]
  },
  {
   "cell_type": "code",
   "execution_count": 3,
   "id": "01f01747-6675-4065-9353-ae04aa69fa76",
   "metadata": {},
   "outputs": [
    {
     "name": "stdout",
     "output_type": "stream",
     "text": [
      "Instruments: ['vocals', 'other']\n",
      "Use augmentation for training\n",
      "Loading songs data from cache: Results/metadata_train.pkl. If you updated dataset remove metadata_train.pkl before training!\n",
      "Found tracks in dataset: 80\n",
      "Start from checkpoint: Results/model_htdemucs(after prune).ckpt\n",
      "Use single GPU: [0]\n",
      "Patience: 2 Reduce factor: 0.95 Batch size: 8 Grad accum steps: 1 Effective batch size: 8\n",
      "Train for: 1000\n",
      "Train epoch: 0 Learning rate: 9e-05\n"
     ]
    },
    {
     "name": "stderr",
     "output_type": "stream",
     "text": [
      "100%|██████████| 1000/1000 [20:40<00:00,  1.24s/it, loss=0.0306, avg_loss=nan]\n"
     ]
    },
    {
     "name": "stdout",
     "output_type": "stream",
     "text": [
      "Training loss: nan\n"
     ]
    },
    {
     "name": "stderr",
     "output_type": "stream",
     "text": [
      "100%|██████████| 20/20 [01:32<00:00,  4.61s/it, sdr_vocals=6.59, sdr_other=17.5]\n"
     ]
    },
    {
     "name": "stdout",
     "output_type": "stream",
     "text": [
      "Instr SDR vocals: 9.0994\n",
      "Instr SDR other: 15.5380\n",
      "SDR Avg: 12.3187\n",
      "Store weights: Results/model_htdemucs_ep_0_sdr_12.3187.ckpt\n",
      "Train epoch: 1 Learning rate: 9e-05\n"
     ]
    },
    {
     "name": "stderr",
     "output_type": "stream",
     "text": [
      "100%|██████████| 1000/1000 [22:01<00:00,  1.32s/it, loss=0.0193, avg_loss=0.0156]\n"
     ]
    },
    {
     "name": "stdout",
     "output_type": "stream",
     "text": [
      "Training loss: 0.000156\n"
     ]
    },
    {
     "name": "stderr",
     "output_type": "stream",
     "text": [
      "100%|██████████| 20/20 [01:39<00:00,  4.98s/it, sdr_vocals=6.65, sdr_other=17.6]\n"
     ]
    },
    {
     "name": "stdout",
     "output_type": "stream",
     "text": [
      "Instr SDR vocals: 9.3143\n",
      "Instr SDR other: 15.7579\n",
      "SDR Avg: 12.5361\n",
      "Store weights: Results/model_htdemucs_ep_1_sdr_12.5361.ckpt\n",
      "Train epoch: 2 Learning rate: 9e-05\n"
     ]
    },
    {
     "name": "stderr",
     "output_type": "stream",
     "text": [
      "100%|██████████| 1000/1000 [24:11<00:00,  1.45s/it, loss=0.0163, avg_loss=0.0148]\n"
     ]
    },
    {
     "name": "stdout",
     "output_type": "stream",
     "text": [
      "Training loss: 0.000148\n"
     ]
    },
    {
     "name": "stderr",
     "output_type": "stream",
     "text": [
      "100%|██████████| 20/20 [01:22<00:00,  4.14s/it, sdr_vocals=6.66, sdr_other=17.6]\n"
     ]
    },
    {
     "name": "stdout",
     "output_type": "stream",
     "text": [
      "Instr SDR vocals: 9.4119\n",
      "Instr SDR other: 15.8602\n",
      "SDR Avg: 12.6360\n",
      "Store weights: Results/model_htdemucs_ep_2_sdr_12.6360.ckpt\n",
      "Train epoch: 3 Learning rate: 9e-05\n"
     ]
    },
    {
     "name": "stderr",
     "output_type": "stream",
     "text": [
      "100%|██████████| 1000/1000 [27:05<00:00,  1.63s/it, loss=0.0137, avg_loss=0.0149]\n"
     ]
    },
    {
     "name": "stdout",
     "output_type": "stream",
     "text": [
      "Training loss: 0.000149\n"
     ]
    },
    {
     "name": "stderr",
     "output_type": "stream",
     "text": [
      "100%|██████████| 20/20 [01:31<00:00,  4.57s/it, sdr_vocals=6.62, sdr_other=17.6]\n"
     ]
    },
    {
     "name": "stdout",
     "output_type": "stream",
     "text": [
      "Instr SDR vocals: 9.4898\n",
      "Instr SDR other: 15.9385\n",
      "SDR Avg: 12.7142\n",
      "Store weights: Results/model_htdemucs_ep_3_sdr_12.7142.ckpt\n",
      "Train epoch: 4 Learning rate: 9e-05\n"
     ]
    },
    {
     "name": "stderr",
     "output_type": "stream",
     "text": [
      "100%|██████████| 1000/1000 [29:47<00:00,  1.79s/it, loss=0.0102, avg_loss=0.0141]\n"
     ]
    },
    {
     "name": "stdout",
     "output_type": "stream",
     "text": [
      "Training loss: 0.000141\n"
     ]
    },
    {
     "name": "stderr",
     "output_type": "stream",
     "text": [
      "100%|██████████| 20/20 [01:37<00:00,  4.87s/it, sdr_vocals=6.67, sdr_other=17.6]\n"
     ]
    },
    {
     "name": "stdout",
     "output_type": "stream",
     "text": [
      "Instr SDR vocals: 9.4921\n",
      "Instr SDR other: 15.9421\n",
      "SDR Avg: 12.7171\n",
      "Store weights: Results/model_htdemucs_ep_4_sdr_12.7171.ckpt\n",
      "Train epoch: 5 Learning rate: 9e-05\n"
     ]
    },
    {
     "name": "stderr",
     "output_type": "stream",
     "text": [
      "100%|██████████| 1000/1000 [31:13<00:00,  1.87s/it, loss=0.0176, avg_loss=0.0141] \n"
     ]
    },
    {
     "name": "stdout",
     "output_type": "stream",
     "text": [
      "Training loss: 0.000141\n"
     ]
    },
    {
     "name": "stderr",
     "output_type": "stream",
     "text": [
      "100%|██████████| 20/20 [01:40<00:00,  5.04s/it, sdr_vocals=6.46, sdr_other=17.4]\n"
     ]
    },
    {
     "name": "stdout",
     "output_type": "stream",
     "text": [
      "Instr SDR vocals: 9.4705\n",
      "Instr SDR other: 15.9180\n",
      "SDR Avg: 12.6943\n",
      "Train epoch: 6 Learning rate: 9e-05\n"
     ]
    },
    {
     "name": "stderr",
     "output_type": "stream",
     "text": [
      "100%|██████████| 1000/1000 [31:59<00:00,  1.92s/it, loss=0.0205, avg_loss=0.0135]\n"
     ]
    },
    {
     "name": "stdout",
     "output_type": "stream",
     "text": [
      "Training loss: 0.000135\n"
     ]
    },
    {
     "name": "stderr",
     "output_type": "stream",
     "text": [
      "100%|██████████| 20/20 [01:43<00:00,  5.17s/it, sdr_vocals=6.41, sdr_other=17.4]\n"
     ]
    },
    {
     "name": "stdout",
     "output_type": "stream",
     "text": [
      "Instr SDR vocals: 9.5082\n",
      "Instr SDR other: 15.9574\n",
      "SDR Avg: 12.7328\n",
      "Store weights: Results/model_htdemucs_ep_6_sdr_12.7328.ckpt\n",
      "Train epoch: 7 Learning rate: 9e-05\n"
     ]
    },
    {
     "name": "stderr",
     "output_type": "stream",
     "text": [
      "100%|██████████| 1000/1000 [30:23<00:00,  1.82s/it, loss=0.0101, avg_loss=0.0133] \n"
     ]
    },
    {
     "name": "stdout",
     "output_type": "stream",
     "text": [
      "Training loss: 0.000133\n"
     ]
    },
    {
     "name": "stderr",
     "output_type": "stream",
     "text": [
      "100%|██████████| 20/20 [01:30<00:00,  4.52s/it, sdr_vocals=6.55, sdr_other=17.5]\n"
     ]
    },
    {
     "name": "stdout",
     "output_type": "stream",
     "text": [
      "Instr SDR vocals: 9.6606\n",
      "Instr SDR other: 16.1117\n",
      "SDR Avg: 12.8862\n",
      "Store weights: Results/model_htdemucs_ep_7_sdr_12.8862.ckpt\n",
      "Train epoch: 8 Learning rate: 9e-05\n"
     ]
    },
    {
     "name": "stderr",
     "output_type": "stream",
     "text": [
      "100%|██████████| 1000/1000 [28:25<00:00,  1.71s/it, loss=0.0174, avg_loss=0.0133]\n"
     ]
    },
    {
     "name": "stdout",
     "output_type": "stream",
     "text": [
      "Training loss: 0.000133\n"
     ]
    },
    {
     "name": "stderr",
     "output_type": "stream",
     "text": [
      "100%|██████████| 20/20 [01:33<00:00,  4.69s/it, sdr_vocals=6.44, sdr_other=17.4]\n"
     ]
    },
    {
     "name": "stdout",
     "output_type": "stream",
     "text": [
      "Instr SDR vocals: 9.6645\n",
      "Instr SDR other: 16.1150\n",
      "SDR Avg: 12.8897\n",
      "Store weights: Results/model_htdemucs_ep_8_sdr_12.8897.ckpt\n",
      "Train epoch: 9 Learning rate: 9e-05\n"
     ]
    },
    {
     "name": "stderr",
     "output_type": "stream",
     "text": [
      "100%|██████████| 1000/1000 [27:44<00:00,  1.66s/it, loss=0.0196, avg_loss=0.0133]\n"
     ]
    },
    {
     "name": "stdout",
     "output_type": "stream",
     "text": [
      "Training loss: 0.000133\n"
     ]
    },
    {
     "name": "stderr",
     "output_type": "stream",
     "text": [
      "100%|██████████| 20/20 [01:30<00:00,  4.52s/it, sdr_vocals=6.44, sdr_other=17.4]\n"
     ]
    },
    {
     "name": "stdout",
     "output_type": "stream",
     "text": [
      "Instr SDR vocals: 9.6309\n",
      "Instr SDR other: 16.0797\n",
      "SDR Avg: 12.8553\n",
      "Train epoch: 10 Learning rate: 9e-05\n"
     ]
    },
    {
     "name": "stderr",
     "output_type": "stream",
     "text": [
      "100%|██████████| 1000/1000 [27:18<00:00,  1.64s/it, loss=0.0204, avg_loss=0.0132]\n"
     ]
    },
    {
     "name": "stdout",
     "output_type": "stream",
     "text": [
      "Training loss: 0.000132\n"
     ]
    },
    {
     "name": "stderr",
     "output_type": "stream",
     "text": [
      "100%|██████████| 20/20 [01:26<00:00,  4.31s/it, sdr_vocals=6.38, sdr_other=17.3]\n"
     ]
    },
    {
     "name": "stdout",
     "output_type": "stream",
     "text": [
      "Instr SDR vocals: 9.6242\n",
      "Instr SDR other: 16.0754\n",
      "SDR Avg: 12.8498\n",
      "Train epoch: 11 Learning rate: 9e-05\n"
     ]
    },
    {
     "name": "stderr",
     "output_type": "stream",
     "text": [
      "100%|██████████| 1000/1000 [27:26<00:00,  1.65s/it, loss=0.0223, avg_loss=0.0131]\n"
     ]
    },
    {
     "name": "stdout",
     "output_type": "stream",
     "text": [
      "Training loss: 0.000131\n"
     ]
    },
    {
     "name": "stderr",
     "output_type": "stream",
     "text": [
      "100%|██████████| 20/20 [01:25<00:00,  4.29s/it, sdr_vocals=6.41, sdr_other=17.3]\n"
     ]
    },
    {
     "name": "stdout",
     "output_type": "stream",
     "text": [
      "Instr SDR vocals: 9.6298\n",
      "Instr SDR other: 16.0787\n",
      "SDR Avg: 12.8543\n",
      "Train epoch: 12 Learning rate: 8.55e-05\n"
     ]
    },
    {
     "name": "stderr",
     "output_type": "stream",
     "text": [
      "100%|██████████| 1000/1000 [27:18<00:00,  1.64s/it, loss=0.0092, avg_loss=0.013] \n"
     ]
    },
    {
     "name": "stdout",
     "output_type": "stream",
     "text": [
      "Training loss: 0.000130\n"
     ]
    },
    {
     "name": "stderr",
     "output_type": "stream",
     "text": [
      "100%|██████████| 20/20 [01:27<00:00,  4.36s/it, sdr_vocals=6.17, sdr_other=17.1]\n"
     ]
    },
    {
     "name": "stdout",
     "output_type": "stream",
     "text": [
      "Instr SDR vocals: 9.6058\n",
      "Instr SDR other: 16.0571\n",
      "SDR Avg: 12.8315\n",
      "Train epoch: 13 Learning rate: 8.55e-05\n"
     ]
    },
    {
     "name": "stderr",
     "output_type": "stream",
     "text": [
      "100%|██████████| 1000/1000 [26:53<00:00,  1.61s/it, loss=0.00858, avg_loss=0.0127]\n"
     ]
    },
    {
     "name": "stdout",
     "output_type": "stream",
     "text": [
      "Training loss: 0.000127\n"
     ]
    },
    {
     "name": "stderr",
     "output_type": "stream",
     "text": [
      "100%|██████████| 20/20 [01:26<00:00,  4.30s/it, sdr_vocals=6.08, sdr_other=17]  \n"
     ]
    },
    {
     "name": "stdout",
     "output_type": "stream",
     "text": [
      "Instr SDR vocals: 9.5691\n",
      "Instr SDR other: 16.0185\n",
      "SDR Avg: 12.7938\n",
      "Train epoch: 14 Learning rate: 8.55e-05\n"
     ]
    },
    {
     "name": "stderr",
     "output_type": "stream",
     "text": [
      "100%|██████████| 1000/1000 [26:33<00:00,  1.59s/it, loss=0.0104, avg_loss=0.0127]\n"
     ]
    },
    {
     "name": "stdout",
     "output_type": "stream",
     "text": [
      "Training loss: 0.000127\n"
     ]
    },
    {
     "name": "stderr",
     "output_type": "stream",
     "text": [
      "100%|██████████| 20/20 [01:20<00:00,  4.02s/it, sdr_vocals=6.26, sdr_other=17.2]\n"
     ]
    },
    {
     "name": "stdout",
     "output_type": "stream",
     "text": [
      "Instr SDR vocals: 9.5853\n",
      "Instr SDR other: 16.0341\n",
      "SDR Avg: 12.8097\n",
      "Train epoch: 15 Learning rate: 8.1225e-05\n"
     ]
    },
    {
     "name": "stderr",
     "output_type": "stream",
     "text": [
      "100%|██████████| 1000/1000 [27:24<00:00,  1.64s/it, loss=0.0103, avg_loss=0.0126]\n"
     ]
    },
    {
     "name": "stdout",
     "output_type": "stream",
     "text": [
      "Training loss: 0.000126\n"
     ]
    },
    {
     "name": "stderr",
     "output_type": "stream",
     "text": [
      "100%|██████████| 20/20 [01:22<00:00,  4.13s/it, sdr_vocals=6.61, sdr_other=17.6]\n"
     ]
    },
    {
     "name": "stdout",
     "output_type": "stream",
     "text": [
      "Instr SDR vocals: 9.6118\n",
      "Instr SDR other: 16.0598\n",
      "SDR Avg: 12.8358\n",
      "Train epoch: 16 Learning rate: 8.1225e-05\n"
     ]
    },
    {
     "name": "stderr",
     "output_type": "stream",
     "text": [
      "100%|██████████| 1000/1000 [28:08<00:00,  1.69s/it, loss=0.00692, avg_loss=0.0127]\n"
     ]
    },
    {
     "name": "stdout",
     "output_type": "stream",
     "text": [
      "Training loss: 0.000127\n"
     ]
    },
    {
     "name": "stderr",
     "output_type": "stream",
     "text": [
      "100%|██████████| 20/20 [01:24<00:00,  4.21s/it, sdr_vocals=6.04, sdr_other=17]  \n"
     ]
    },
    {
     "name": "stdout",
     "output_type": "stream",
     "text": [
      "Instr SDR vocals: 9.5822\n",
      "Instr SDR other: 16.0360\n",
      "SDR Avg: 12.8091\n",
      "Train epoch: 17 Learning rate: 8.1225e-05\n"
     ]
    },
    {
     "name": "stderr",
     "output_type": "stream",
     "text": [
      "100%|██████████| 1000/1000 [27:32<00:00,  1.65s/it, loss=0.0143, avg_loss=0.0127]\n"
     ]
    },
    {
     "name": "stdout",
     "output_type": "stream",
     "text": [
      "Training loss: 0.000127\n"
     ]
    },
    {
     "name": "stderr",
     "output_type": "stream",
     "text": [
      "100%|██████████| 20/20 [01:27<00:00,  4.36s/it, sdr_vocals=6.73, sdr_other=17.7]\n"
     ]
    },
    {
     "name": "stdout",
     "output_type": "stream",
     "text": [
      "Instr SDR vocals: 9.6498\n",
      "Instr SDR other: 16.1003\n",
      "SDR Avg: 12.8751\n",
      "Train epoch: 18 Learning rate: 7.716374999999999e-05\n"
     ]
    },
    {
     "name": "stderr",
     "output_type": "stream",
     "text": [
      "100%|██████████| 1000/1000 [26:03<00:00,  1.56s/it, loss=0.00889, avg_loss=0.0122]\n"
     ]
    },
    {
     "name": "stdout",
     "output_type": "stream",
     "text": [
      "Training loss: 0.000122\n"
     ]
    },
    {
     "name": "stderr",
     "output_type": "stream",
     "text": [
      "100%|██████████| 20/20 [01:22<00:00,  4.14s/it, sdr_vocals=6.45, sdr_other=17.4]\n"
     ]
    },
    {
     "name": "stdout",
     "output_type": "stream",
     "text": [
      "Instr SDR vocals: 9.6400\n",
      "Instr SDR other: 16.0926\n",
      "SDR Avg: 12.8663\n",
      "Train epoch: 19 Learning rate: 7.716374999999999e-05\n"
     ]
    },
    {
     "name": "stderr",
     "output_type": "stream",
     "text": [
      "100%|██████████| 1000/1000 [25:27<00:00,  1.53s/it, loss=0.0156, avg_loss=0.0123]\n"
     ]
    },
    {
     "name": "stdout",
     "output_type": "stream",
     "text": [
      "Training loss: 0.000123\n"
     ]
    },
    {
     "name": "stderr",
     "output_type": "stream",
     "text": [
      "100%|██████████| 20/20 [01:30<00:00,  4.54s/it, sdr_vocals=6.07, sdr_other=17]  \n"
     ]
    },
    {
     "name": "stdout",
     "output_type": "stream",
     "text": [
      "Instr SDR vocals: 9.5239\n",
      "Instr SDR other: 15.9783\n",
      "SDR Avg: 12.7511\n",
      "Train epoch: 20 Learning rate: 7.716374999999999e-05\n"
     ]
    },
    {
     "name": "stderr",
     "output_type": "stream",
     "text": [
      "100%|██████████| 1000/1000 [23:37<00:00,  1.42s/it, loss=0.016, avg_loss=0.0122] \n"
     ]
    },
    {
     "name": "stdout",
     "output_type": "stream",
     "text": [
      "Training loss: 0.000122\n"
     ]
    },
    {
     "name": "stderr",
     "output_type": "stream",
     "text": [
      "100%|██████████| 20/20 [01:35<00:00,  4.79s/it, sdr_vocals=6.49, sdr_other=17.5]\n"
     ]
    },
    {
     "name": "stdout",
     "output_type": "stream",
     "text": [
      "Instr SDR vocals: 9.5671\n",
      "Instr SDR other: 16.0222\n",
      "SDR Avg: 12.7947\n",
      "Train epoch: 21 Learning rate: 7.330556249999999e-05\n"
     ]
    },
    {
     "name": "stderr",
     "output_type": "stream",
     "text": [
      "  0%|          | 4/1000 [00:10<44:55,  2.71s/it, loss=0.0136, avg_loss=0.0154]  \n"
     ]
    },
    {
     "ename": "KeyboardInterrupt",
     "evalue": "",
     "output_type": "error",
     "traceback": [
      "\u001b[0;31m---------------------------------------------------------------------------\u001b[0m",
      "\u001b[0;31mKeyboardInterrupt\u001b[0m                         Traceback (most recent call last)",
      "Cell \u001b[0;32mIn[3], line 1\u001b[0m\n\u001b[0;32m----> 1\u001b[0m \u001b[43mtrain_model\u001b[49m\u001b[43m(\u001b[49m\u001b[43mcfg\u001b[49m\u001b[43m)\u001b[49m\n",
      "File \u001b[0;32m~/Github/DiscoverVoice/SuperDemucs/utils/train.py:348\u001b[0m, in \u001b[0;36mtrain_model\u001b[0;34m(cfg)\u001b[0m\n\u001b[1;32m    345\u001b[0m     nn\u001b[38;5;241m.\u001b[39mutils\u001b[38;5;241m.\u001b[39mclip_grad_norm_(model\u001b[38;5;241m.\u001b[39mparameters(), model_config\u001b[38;5;241m.\u001b[39mtraining\u001b[38;5;241m.\u001b[39mgrad_clip)\n\u001b[1;32m    347\u001b[0m \u001b[38;5;28;01mif\u001b[39;00m ((i \u001b[38;5;241m+\u001b[39m \u001b[38;5;241m1\u001b[39m) \u001b[38;5;241m%\u001b[39m gradient_accumulation_steps \u001b[38;5;241m==\u001b[39m \u001b[38;5;241m0\u001b[39m) \u001b[38;5;129;01mor\u001b[39;00m (i \u001b[38;5;241m==\u001b[39m \u001b[38;5;28mlen\u001b[39m(train_loader) \u001b[38;5;241m-\u001b[39m \u001b[38;5;241m1\u001b[39m):\n\u001b[0;32m--> 348\u001b[0m     \u001b[43mscaler\u001b[49m\u001b[38;5;241;43m.\u001b[39;49m\u001b[43mstep\u001b[49m\u001b[43m(\u001b[49m\u001b[43moptimizer\u001b[49m\u001b[43m)\u001b[49m\n\u001b[1;32m    349\u001b[0m     scaler\u001b[38;5;241m.\u001b[39mupdate()\n\u001b[1;32m    350\u001b[0m     optimizer\u001b[38;5;241m.\u001b[39mzero_grad(set_to_none\u001b[38;5;241m=\u001b[39m\u001b[38;5;28;01mTrue\u001b[39;00m)\n",
      "File \u001b[0;32m~/.conda/envs/SuperDemucs/lib/python3.9/site-packages/torch/cuda/amp/grad_scaler.py:374\u001b[0m, in \u001b[0;36mGradScaler.step\u001b[0;34m(self, optimizer, *args, **kwargs)\u001b[0m\n\u001b[1;32m    370\u001b[0m     \u001b[38;5;28mself\u001b[39m\u001b[38;5;241m.\u001b[39munscale_(optimizer)\n\u001b[1;32m    372\u001b[0m \u001b[38;5;28;01massert\u001b[39;00m \u001b[38;5;28mlen\u001b[39m(optimizer_state[\u001b[38;5;124m\"\u001b[39m\u001b[38;5;124mfound_inf_per_device\u001b[39m\u001b[38;5;124m\"\u001b[39m]) \u001b[38;5;241m>\u001b[39m \u001b[38;5;241m0\u001b[39m, \u001b[38;5;124m\"\u001b[39m\u001b[38;5;124mNo inf checks were recorded for this optimizer.\u001b[39m\u001b[38;5;124m\"\u001b[39m\n\u001b[0;32m--> 374\u001b[0m retval \u001b[38;5;241m=\u001b[39m \u001b[38;5;28;43mself\u001b[39;49m\u001b[38;5;241;43m.\u001b[39;49m\u001b[43m_maybe_opt_step\u001b[49m\u001b[43m(\u001b[49m\u001b[43moptimizer\u001b[49m\u001b[43m,\u001b[49m\u001b[43m \u001b[49m\u001b[43moptimizer_state\u001b[49m\u001b[43m,\u001b[49m\u001b[43m \u001b[49m\u001b[38;5;241;43m*\u001b[39;49m\u001b[43margs\u001b[49m\u001b[43m,\u001b[49m\u001b[43m \u001b[49m\u001b[38;5;241;43m*\u001b[39;49m\u001b[38;5;241;43m*\u001b[39;49m\u001b[43mkwargs\u001b[49m\u001b[43m)\u001b[49m\n\u001b[1;32m    376\u001b[0m optimizer_state[\u001b[38;5;124m\"\u001b[39m\u001b[38;5;124mstage\u001b[39m\u001b[38;5;124m\"\u001b[39m] \u001b[38;5;241m=\u001b[39m OptState\u001b[38;5;241m.\u001b[39mSTEPPED\n\u001b[1;32m    378\u001b[0m \u001b[38;5;28;01mreturn\u001b[39;00m retval\n",
      "File \u001b[0;32m~/.conda/envs/SuperDemucs/lib/python3.9/site-packages/torch/cuda/amp/grad_scaler.py:289\u001b[0m, in \u001b[0;36mGradScaler._maybe_opt_step\u001b[0;34m(self, optimizer, optimizer_state, *args, **kwargs)\u001b[0m\n\u001b[1;32m    287\u001b[0m \u001b[38;5;28;01mdef\u001b[39;00m \u001b[38;5;21m_maybe_opt_step\u001b[39m(\u001b[38;5;28mself\u001b[39m, optimizer, optimizer_state, \u001b[38;5;241m*\u001b[39margs, \u001b[38;5;241m*\u001b[39m\u001b[38;5;241m*\u001b[39mkwargs):\n\u001b[1;32m    288\u001b[0m     retval \u001b[38;5;241m=\u001b[39m \u001b[38;5;28;01mNone\u001b[39;00m\n\u001b[0;32m--> 289\u001b[0m     \u001b[38;5;28;01mif\u001b[39;00m \u001b[38;5;129;01mnot\u001b[39;00m \u001b[38;5;28;43msum\u001b[39;49m\u001b[43m(\u001b[49m\u001b[43mv\u001b[49m\u001b[38;5;241;43m.\u001b[39;49m\u001b[43mitem\u001b[49m\u001b[43m(\u001b[49m\u001b[43m)\u001b[49m\u001b[43m \u001b[49m\u001b[38;5;28;43;01mfor\u001b[39;49;00m\u001b[43m \u001b[49m\u001b[43mv\u001b[49m\u001b[43m \u001b[49m\u001b[38;5;129;43;01min\u001b[39;49;00m\u001b[43m \u001b[49m\u001b[43moptimizer_state\u001b[49m\u001b[43m[\u001b[49m\u001b[38;5;124;43m\"\u001b[39;49m\u001b[38;5;124;43mfound_inf_per_device\u001b[39;49m\u001b[38;5;124;43m\"\u001b[39;49m\u001b[43m]\u001b[49m\u001b[38;5;241;43m.\u001b[39;49m\u001b[43mvalues\u001b[49m\u001b[43m(\u001b[49m\u001b[43m)\u001b[49m\u001b[43m)\u001b[49m:\n\u001b[1;32m    290\u001b[0m         retval \u001b[38;5;241m=\u001b[39m optimizer\u001b[38;5;241m.\u001b[39mstep(\u001b[38;5;241m*\u001b[39margs, \u001b[38;5;241m*\u001b[39m\u001b[38;5;241m*\u001b[39mkwargs)\n\u001b[1;32m    291\u001b[0m     \u001b[38;5;28;01mreturn\u001b[39;00m retval\n",
      "File \u001b[0;32m~/.conda/envs/SuperDemucs/lib/python3.9/site-packages/torch/cuda/amp/grad_scaler.py:289\u001b[0m, in \u001b[0;36m<genexpr>\u001b[0;34m(.0)\u001b[0m\n\u001b[1;32m    287\u001b[0m \u001b[38;5;28;01mdef\u001b[39;00m \u001b[38;5;21m_maybe_opt_step\u001b[39m(\u001b[38;5;28mself\u001b[39m, optimizer, optimizer_state, \u001b[38;5;241m*\u001b[39margs, \u001b[38;5;241m*\u001b[39m\u001b[38;5;241m*\u001b[39mkwargs):\n\u001b[1;32m    288\u001b[0m     retval \u001b[38;5;241m=\u001b[39m \u001b[38;5;28;01mNone\u001b[39;00m\n\u001b[0;32m--> 289\u001b[0m     \u001b[38;5;28;01mif\u001b[39;00m \u001b[38;5;129;01mnot\u001b[39;00m \u001b[38;5;28msum\u001b[39m(\u001b[43mv\u001b[49m\u001b[38;5;241;43m.\u001b[39;49m\u001b[43mitem\u001b[49m\u001b[43m(\u001b[49m\u001b[43m)\u001b[49m \u001b[38;5;28;01mfor\u001b[39;00m v \u001b[38;5;129;01min\u001b[39;00m optimizer_state[\u001b[38;5;124m\"\u001b[39m\u001b[38;5;124mfound_inf_per_device\u001b[39m\u001b[38;5;124m\"\u001b[39m]\u001b[38;5;241m.\u001b[39mvalues()):\n\u001b[1;32m    290\u001b[0m         retval \u001b[38;5;241m=\u001b[39m optimizer\u001b[38;5;241m.\u001b[39mstep(\u001b[38;5;241m*\u001b[39margs, \u001b[38;5;241m*\u001b[39m\u001b[38;5;241m*\u001b[39mkwargs)\n\u001b[1;32m    291\u001b[0m     \u001b[38;5;28;01mreturn\u001b[39;00m retval\n",
      "\u001b[0;31mKeyboardInterrupt\u001b[0m: "
     ]
    }
   ],
   "source": [
    "train_model(cfg)"
   ]
  }
 ],
 "metadata": {
  "kernelspec": {
   "display_name": "Python 3 (ipykernel)",
   "language": "python",
   "name": "python3"
  },
  "language_info": {
   "codemirror_mode": {
    "name": "ipython",
    "version": 3
   },
   "file_extension": ".py",
   "mimetype": "text/x-python",
   "name": "python",
   "nbconvert_exporter": "python",
   "pygments_lexer": "ipython3",
   "version": "3.9.19"
  }
 },
 "nbformat": 4,
 "nbformat_minor": 5
}
