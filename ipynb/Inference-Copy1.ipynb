{
 "cells": [
  {
   "cell_type": "code",
   "execution_count": 1,
   "id": "a10f06f7-99c9-4215-b015-64121f1dd635",
   "metadata": {},
   "outputs": [],
   "source": [
    "import os\n",
    "import sys\n",
    "import shutil\n",
    "sys.path.append(os.path.dirname(os.getcwd()))"
   ]
  },
  {
   "cell_type": "code",
   "execution_count": 2,
   "id": "cdbc049b-56e4-436d-b5a5-77ef3126f322",
   "metadata": {},
   "outputs": [],
   "source": [
    "from utils.audio_utils import convert_mp3_to_wav, get_audio_list, convert_mp3_to_wav\n",
    "from utils.paths import p"
   ]
  },
  {
   "cell_type": "code",
   "execution_count": 3,
   "id": "4a90536d-c9f5-445e-a88e-70daa3460050",
   "metadata": {},
   "outputs": [],
   "source": [
    "from utils.ensemble import ensemble_files"
   ]
  },
  {
   "cell_type": "code",
   "execution_count": 4,
   "id": "30c911ce-51bf-4350-8a55-8b903bb0c9e9",
   "metadata": {
    "scrolled": true
   },
   "outputs": [],
   "source": [
    "from utils.inference import proc_folder\n",
    "import logging\n",
    "from pathlib import Path"
   ]
  },
  {
   "cell_type": "code",
   "execution_count": 5,
   "id": "db60244f-eb4d-4d1e-8ea6-42b5fb909559",
   "metadata": {
    "scrolled": true
   },
   "outputs": [],
   "source": [
    "dir_name = 'music'\n",
    "mp3_root = p.Datasets / dir_name\n",
    "mp3_files = get_audio_list(mp3_root, audio_type = '.mp3')"
   ]
  },
  {
   "cell_type": "code",
   "execution_count": 6,
   "id": "49f24e8b-33e0-4156-b01d-80330b90cfa9",
   "metadata": {},
   "outputs": [],
   "source": [
    "chunk_size = 100\n",
    "num_chunks = (len(mp3_files) + chunk_size - 1) // chunk_size "
   ]
  },
  {
   "cell_type": "code",
   "execution_count": 7,
   "id": "fc19ccc0-5728-423b-adce-429cf644a46d",
   "metadata": {},
   "outputs": [],
   "source": [
    "device_ids = [1]\n",
    "extract_instrumental = False"
   ]
  },
  {
   "cell_type": "code",
   "execution_count": 8,
   "id": "74801bbd-526c-4941-9359-77701dd932ab",
   "metadata": {},
   "outputs": [],
   "source": [
    "chunk_list = [16, 17, 18, 19, 20, 21, 22, 23, 24, 25, 26, 27, 28, 29]"
   ]
  },
  {
   "cell_type": "code",
   "execution_count": 9,
   "id": "34f0be1f-661c-4278-b677-506a87a8ed47",
   "metadata": {},
   "outputs": [],
   "source": [
    "total_processed_files = 0"
   ]
  },
  {
   "cell_type": "code",
   "execution_count": 10,
   "id": "66778f25-d343-4285-9386-279cdd3058ef",
   "metadata": {},
   "outputs": [],
   "source": [
    "log_file = p.Logs / 'process.log'\n",
    "logging.basicConfig(level=logging.INFO, format='%(asctime)s - %(levelname)s - %(message)s', filename=log_file, filemode='w')\n",
    "logger = logging.getLogger(__name__)"
   ]
  },
  {
   "cell_type": "code",
   "execution_count": 11,
   "id": "3e599b6d-324d-478d-944e-4ede6cb78939",
   "metadata": {},
   "outputs": [],
   "source": [
    "def get_matching_file_pairs(root_dirs, audio_type='.wav'):\n",
    "    files_dict = {}\n",
    "    for root_dir in root_dirs:\n",
    "        for path in Path(root_dir).rglob(f'*{audio_type}'):\n",
    "            filename = path.name\n",
    "            if filename not in files_dict:\n",
    "                files_dict[filename] = []\n",
    "            files_dict[filename].append(str(path))\n",
    "    \n",
    "    file_pairs = [{'files': paths, 'output': filename} for filename, paths in files_dict.items() if len(paths) > 1]\n",
    "    return file_pairs"
   ]
  },
  {
   "cell_type": "code",
   "execution_count": 12,
   "id": "68289a64-3578-4a41-951b-9f202b271c09",
   "metadata": {},
   "outputs": [
    {
     "name": "stdout",
     "output_type": "stream",
     "text": [
      "Batch 16: Converted 100 MP3 files to WAV\n",
      "Start from checkpoint: Results/model_htdemucs_ep_8_sdr_12.8897.ckpt\n",
      "Instruments: ['vocals', 'other']\n",
      "Total files found: 100\n"
     ]
    },
    {
     "name": "stderr",
     "output_type": "stream",
     "text": [
      "100%|██████████| 100/100 [23:42<00:00, 14.22s/it, track=임창정 - 그 사람을 아나요.wav]                    wav]\n"
     ]
    },
    {
     "name": "stdout",
     "output_type": "stream",
     "text": [
      "Elapsed time: 1423.48 sec\n",
      "Batch 16: Processed with model htdemucs\n",
      "Start from checkpoint: Results/mdx23c/model_mdx23c_ep_3_sdr_12.9580.ckpt\n",
      "Instruments: ['vocals', 'other']\n",
      "Total files found: 100\n"
     ]
    },
    {
     "name": "stderr",
     "output_type": "stream",
     "text": [
      "100%|██████████| 100/100 [1:35:45<00:00, 57.46s/it, track=임창정 - 그 사람을 아나요.wav]                  wav]  \n"
     ]
    },
    {
     "name": "stdout",
     "output_type": "stream",
     "text": [
      "Elapsed time: 5746.97 sec\n",
      "Batch 16: Processed with model mdx23c\n"
     ]
    },
    {
     "ename": "KeyboardInterrupt",
     "evalue": "",
     "output_type": "error",
     "traceback": [
      "\u001b[0;31m---------------------------------------------------------------------------\u001b[0m",
      "\u001b[0;31mKeyboardInterrupt\u001b[0m                         Traceback (most recent call last)",
      "Cell \u001b[0;32mIn[12], line 28\u001b[0m\n\u001b[1;32m     26\u001b[0m         \u001b[38;5;28;01mif\u001b[39;00m \u001b[38;5;124m'\u001b[39m\u001b[38;5;124m_other\u001b[39m\u001b[38;5;124m'\u001b[39m \u001b[38;5;129;01min\u001b[39;00m wav_file\u001b[38;5;241m.\u001b[39mname:\n\u001b[1;32m     27\u001b[0m             \u001b[38;5;28;01mif\u001b[39;00m wav_file\u001b[38;5;241m.\u001b[39mis_file():\n\u001b[0;32m---> 28\u001b[0m                 \u001b[43mwav_file\u001b[49m\u001b[38;5;241;43m.\u001b[39;49m\u001b[43munlink\u001b[49m\u001b[43m(\u001b[49m\u001b[43m)\u001b[49m\n\u001b[1;32m     29\u001b[0m                 logger\u001b[38;5;241m.\u001b[39minfo(\u001b[38;5;124mf\u001b[39m\u001b[38;5;124m\"\u001b[39m\u001b[38;5;124mDeleted \u001b[39m\u001b[38;5;132;01m{\u001b[39;00mwav_file\u001b[38;5;132;01m}\u001b[39;00m\u001b[38;5;124m because it contains \u001b[39m\u001b[38;5;124m'\u001b[39m\u001b[38;5;124m_other\u001b[39m\u001b[38;5;124m'\u001b[39m\u001b[38;5;124m\"\u001b[39m)\n\u001b[1;32m     30\u001b[0m root_dirs \u001b[38;5;241m=\u001b[39m [p\u001b[38;5;241m.\u001b[39mResults \u001b[38;5;241m/\u001b[39m \u001b[38;5;124m'\u001b[39m\u001b[38;5;124mhtdemucs\u001b[39m\u001b[38;5;124m'\u001b[39m \u001b[38;5;241m/\u001b[39m \u001b[38;5;124m'\u001b[39m\u001b[38;5;124mwav\u001b[39m\u001b[38;5;124m'\u001b[39m \u001b[38;5;241m/\u001b[39m dir_name \u001b[38;5;241m/\u001b[39m \u001b[38;5;124mf\u001b[39m\u001b[38;5;124m'\u001b[39m\u001b[38;5;124mbatch_\u001b[39m\u001b[38;5;132;01m{\u001b[39;00mi\u001b[38;5;132;01m}\u001b[39;00m\u001b[38;5;124m'\u001b[39m, p\u001b[38;5;241m.\u001b[39mResults \u001b[38;5;241m/\u001b[39m \u001b[38;5;124m'\u001b[39m\u001b[38;5;124mmdx23c\u001b[39m\u001b[38;5;124m'\u001b[39m \u001b[38;5;241m/\u001b[39m \u001b[38;5;124m'\u001b[39m\u001b[38;5;124mwav\u001b[39m\u001b[38;5;124m'\u001b[39m \u001b[38;5;241m/\u001b[39m dir_name \u001b[38;5;241m/\u001b[39m \u001b[38;5;124mf\u001b[39m\u001b[38;5;124m'\u001b[39m\u001b[38;5;124mbatch_\u001b[39m\u001b[38;5;132;01m{\u001b[39;00mi\u001b[38;5;132;01m}\u001b[39;00m\u001b[38;5;124m'\u001b[39m]\n",
      "File \u001b[0;32m~/.conda/envs/SuperDemucs/lib/python3.9/pathlib.py:1354\u001b[0m, in \u001b[0;36mPath.unlink\u001b[0;34m(self, missing_ok)\u001b[0m\n\u001b[1;32m   1349\u001b[0m \u001b[38;5;250m\u001b[39m\u001b[38;5;124;03m\"\"\"\u001b[39;00m\n\u001b[1;32m   1350\u001b[0m \u001b[38;5;124;03mRemove this file or link.\u001b[39;00m\n\u001b[1;32m   1351\u001b[0m \u001b[38;5;124;03mIf the path is a directory, use rmdir() instead.\u001b[39;00m\n\u001b[1;32m   1352\u001b[0m \u001b[38;5;124;03m\"\"\"\u001b[39;00m\n\u001b[1;32m   1353\u001b[0m \u001b[38;5;28;01mtry\u001b[39;00m:\n\u001b[0;32m-> 1354\u001b[0m     \u001b[38;5;28;43mself\u001b[39;49m\u001b[38;5;241;43m.\u001b[39;49m\u001b[43m_accessor\u001b[49m\u001b[38;5;241;43m.\u001b[39;49m\u001b[43munlink\u001b[49m\u001b[43m(\u001b[49m\u001b[38;5;28;43mself\u001b[39;49m\u001b[43m)\u001b[49m\n\u001b[1;32m   1355\u001b[0m \u001b[38;5;28;01mexcept\u001b[39;00m \u001b[38;5;167;01mFileNotFoundError\u001b[39;00m:\n\u001b[1;32m   1356\u001b[0m     \u001b[38;5;28;01mif\u001b[39;00m \u001b[38;5;129;01mnot\u001b[39;00m missing_ok:\n",
      "\u001b[0;31mKeyboardInterrupt\u001b[0m: "
     ]
    }
   ],
   "source": [
    "for i in chunk_list:\n",
    "    files = mp3_files[i*chunk_size:(i+1)*chunk_size]\n",
    "    temp_dir = p.Datasets / 'wav' / dir_name / f'batch_{i}'\n",
    "    temp_dir.mkdir(parents=True, exist_ok=True)\n",
    "\n",
    "    convert_mp3_to_wav(files, temp_dir)\n",
    "    logger.info(f\"Batch {i}: Converted {len(files)} MP3 files to WAV\")\n",
    "    print(f\"Batch {i}: Converted {len(files)} MP3 files to WAV\")\n",
    "\n",
    "    wav_files = get_audio_list(temp_dir, audio_type='.wav')\n",
    "    input_folder = str(temp_dir)\n",
    "\n",
    "    model_configs = [\n",
    "        ('htdemucs', 'Configs/htdemucs_config.yaml', 'Results/model_htdemucs_ep_8_sdr_12.8897.ckpt', f'Results/htdemucs/wav/{dir_name}/batch_{i}'),\n",
    "        ('mdx23c', 'Configs/mdx23c_config.yaml', 'Results/mdx23c/model_mdx23c_ep_3_sdr_12.9580.ckpt', f'Results/mdx23c/wav/{dir_name}/batch_{i}')\n",
    "    ]\n",
    "\n",
    "    for model_type, config_path, start_check_point, store_dir in model_configs:\n",
    "        store_dir=Path(store_dir)\n",
    "        store_dir.mkdir(parents=True, exist_ok=True)\n",
    "        proc_folder(model_type, config_path, start_check_point, input_folder, store_dir, device_ids, extract_instrumental)\n",
    "        logger.info(f\"Batch {i}: Processed with model {model_type}\")\n",
    "        print(f\"Batch {i}: Processed with model {model_type}\")\n",
    "        wav_files = get_audio_list(store_dir)\n",
    "        for wav_file in wav_files:\n",
    "            if '_other' in wav_file.name:\n",
    "                if wav_file.is_file():\n",
    "                    wav_file.unlink()\n",
    "                    logger.info(f\"Deleted {wav_file} because it contains '_other'\")\n",
    "    root_dirs = [p.Results / 'htdemucs' / 'wav' / dir_name / f'batch_{i}', p.Results / 'mdx23c' / 'wav' / dir_name / f'batch_{i}']\n",
    "\n",
    "    file_pairs = get_matching_file_pairs(root_dirs)\n",
    "    ensemble_files(file_pairs, algorithm='avg_wave', output_dir=p.Results/\"ensemble\"/f\"batch_{i}\", output_type='.mp3')\n",
    "    logger.info(f\"Batch {i}: Ensemble completed\")\n",
    "    print(f\"Batch {i}: Ensemble completed\")\n",
    "\n",
    "    # temp WAV 파일 삭제\n",
    "    for wav_file in wav_files:\n",
    "        file_path = temp_dir / wav_file\n",
    "        if file_path.is_file():\n",
    "            file_path.unlink()\n",
    "            logger.info(f\"Deleted {file_path}\")\n",
    "            \n",
    "    # temp_dir 삭제\n",
    "    if temp_dir.exists():\n",
    "        shutil.rmtree(temp_dir)\n",
    "        logger.info(f\"Deleted directory {temp_dir}\")\n",
    "\n",
    "    for root_dir in root_dirs:\n",
    "        if root_dir.exists():\n",
    "            shutil.rmtree(root_dir)\n",
    "            logger.info(f\"Deleted directory {root_dir}\")\n",
    "    \n",
    "    total_processed_files += len(files)\n",
    "    logger.info(f\"Total processed files so far: {total_processed_files}\")\n",
    "    print(f\"Total processed files so far: {total_processed_files}\")\n",
    "\n",
    "logger.info(f\"Processing completed. Total processed files: {total_processed_files}\")\n",
    "print(f\"Processing completed. Total processed files: {total_processed_files}\")"
   ]
  },
  {
   "cell_type": "code",
   "execution_count": 13,
   "id": "547b701b-811c-47b8-a099-e608b222da08",
   "metadata": {},
   "outputs": [
    {
     "name": "stderr",
     "output_type": "stream",
     "text": [
      "Processing files: 100%|██████████| 100/100 [10:34<00:00,  6.34s/it]\n"
     ]
    },
    {
     "name": "stdout",
     "output_type": "stream",
     "text": [
      "Batch 16: Ensemble completed\n"
     ]
    }
   ],
   "source": [
    "root_dirs = [p.Results / 'htdemucs' / 'wav' / dir_name / f'batch_{i}', p.Results / 'mdx23c' / 'wav' / dir_name / f'batch_{i}']\n",
    "\n",
    "file_pairs = get_matching_file_pairs(root_dirs)\n",
    "ensemble_files(file_pairs, algorithm='avg_wave', output_dir=p.Results/\"ensemble\"/f\"batch_{i}\", output_type='.mp3')\n",
    "logger.info(f\"Batch {i}: Ensemble completed\")\n",
    "print(f\"Batch {i}: Ensemble completed\")\n",
    "\n",
    "# temp WAV 파일 삭제\n",
    "for wav_file in wav_files:\n",
    "    file_path = temp_dir / wav_file\n",
    "    if file_path.is_file():\n",
    "        file_path.unlink()\n",
    "        logger.info(f\"Deleted {file_path}\")\n",
    "        \n",
    "# temp_dir 삭제\n",
    "if temp_dir.exists():\n",
    "    shutil.rmtree(temp_dir)\n",
    "    logger.info(f\"Deleted directory {temp_dir}\")\n",
    "\n",
    "for root_dir in root_dirs:\n",
    "    if root_dir.exists():\n",
    "        shutil.rmtree(root_dir)\n",
    "        logger.info(f\"Deleted directory {root_dir}\")\n"
   ]
  },
  {
   "cell_type": "code",
   "execution_count": null,
   "id": "b87a3f17-11ee-465d-94cf-f9cfe11c8753",
   "metadata": {},
   "outputs": [],
   "source": []
  }
 ],
 "metadata": {
  "kernelspec": {
   "display_name": "Python 3 (ipykernel)",
   "language": "python",
   "name": "python3"
  },
  "language_info": {
   "codemirror_mode": {
    "name": "ipython",
    "version": 3
   },
   "file_extension": ".py",
   "mimetype": "text/x-python",
   "name": "python",
   "nbconvert_exporter": "python",
   "pygments_lexer": "ipython3",
   "version": "3.9.19"
  }
 },
 "nbformat": 4,
 "nbformat_minor": 5
}
