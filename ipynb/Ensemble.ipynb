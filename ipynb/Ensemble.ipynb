{
 "cells": [
  {
   "cell_type": "code",
   "execution_count": 1,
   "id": "879496a5-06d3-49c4-a4e9-6a2b356b6b9c",
   "metadata": {},
   "outputs": [],
   "source": [
    "import sys\n",
    "import os\n",
    "from pathlib import Path\n",
    "sys.path.append(os.path.dirname(os.getcwd()))"
   ]
  },
  {
   "cell_type": "code",
   "execution_count": 2,
   "id": "28d3d80b-8a61-4f8c-b789-edb0ab1afdee",
   "metadata": {},
   "outputs": [],
   "source": [
    "from utils.ensemble import ensemble_files"
   ]
  },
  {
   "cell_type": "code",
   "execution_count": 3,
   "id": "61cabdc4-f4f4-4834-ac80-13c721d93093",
   "metadata": {},
   "outputs": [],
   "source": [
    "def get_matching_file_pairs(root_dirs, audio_type='.wav'):\n",
    "    files_dict = {}\n",
    "    for root_dir in root_dirs:\n",
    "        for path in Path(root_dir).rglob(f'*{audio_type}'):\n",
    "            filename = path.name\n",
    "            if filename not in files_dict:\n",
    "                files_dict[filename] = []\n",
    "            files_dict[filename].append(str(path))\n",
    "    \n",
    "    file_pairs = [{'files': paths, 'output': filename} for filename, paths in files_dict.items() if len(paths) > 1]\n",
    "    return file_pairs"
   ]
  },
  {
   "cell_type": "code",
   "execution_count": 4,
   "id": "9277d06e-74d6-4035-bdf1-54bd0809c73b",
   "metadata": {},
   "outputs": [],
   "source": [
    "root_dirs = ['../Results/htdemucs/wav/', '../Results/mdx23c/wav/']"
   ]
  },
  {
   "cell_type": "code",
   "execution_count": 5,
   "id": "44294a22-3eed-46ae-b30b-91b585e4817f",
   "metadata": {},
   "outputs": [],
   "source": [
    "file_pairs = get_matching_file_pairs(root_dirs)"
   ]
  },
  {
   "cell_type": "code",
   "execution_count": 7,
   "id": "9f74bbae-143e-406f-b6fc-d375e9157fd3",
   "metadata": {},
   "outputs": [
    {
     "name": "stderr",
     "output_type": "stream",
     "text": [
      "Processing files: 100%|██████████| 204/204 [01:34<00:00,  2.16it/s]\n"
     ]
    }
   ],
   "source": [
    "ensemble_files(file_pairs, algorithm='avg_wave', output_dir=\"../Results/ensemble\")"
   ]
  },
  {
   "cell_type": "code",
   "execution_count": null,
   "id": "11284072-b85e-46b2-8007-0e88c790fbf8",
   "metadata": {},
   "outputs": [],
   "source": []
  }
 ],
 "metadata": {
  "kernelspec": {
   "display_name": "Python 3 (ipykernel)",
   "language": "python",
   "name": "python3"
  },
  "language_info": {
   "codemirror_mode": {
    "name": "ipython",
    "version": 3
   },
   "file_extension": ".py",
   "mimetype": "text/x-python",
   "name": "python",
   "nbconvert_exporter": "python",
   "pygments_lexer": "ipython3",
   "version": "3.9.19"
  }
 },
 "nbformat": 4,
 "nbformat_minor": 5
}
