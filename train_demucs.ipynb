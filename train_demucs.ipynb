{
 "cells": [
  {
   "cell_type": "code",
   "execution_count": 1,
   "id": "7d47eaa3-1d6a-4102-b551-2757e83c91a8",
   "metadata": {},
   "outputs": [],
   "source": [
    "import torch\n",
    "import copy\n",
    "import numpy as np\n",
    "from tqdm import tqdm\n",
    "import os\n",
    "from utils.prune_utils.concern_identification import ConcernIdentification\n",
    "from utils.prune_utils.weight_remover import WeightRemover\n",
    "from utils.dataset import download_musdb, load_data\n",
    "from utils.train import train_model, valid, load_not_compatible_weights, get_model_from_config\n",
    "from utils.config_utils import load_config"
   ]
  },
  {
   "cell_type": "code",
   "execution_count": 2,
   "id": "49f04eab-d80e-47d0-8041-eecd71dfed02",
   "metadata": {},
   "outputs": [],
   "source": [
    "device = 'cuda:0'\n",
    "cfg = load_config('train_config.yaml')\n",
    "cfg.model_type = 'htdemucs'\n",
    "cfg.config_path = 'Configs/htdemucs_config.yaml'\n",
    "cfg.results_path = 'Results/'\n",
    "cfg.data_path = 'Datasets/musdb18hq/train'\n",
    "cfg.num_workers = 4\n",
    "cfg.valid_path = 'Datasets/musdb18hq/valid'\n",
    "cfg.seed = 44\n",
    "cfg.start_check_point = 'Results/model_htdemucs(after prune).ckpt'"
   ]
  },
  {
   "cell_type": "code",
   "execution_count": null,
   "id": "01f01747-6675-4065-9353-ae04aa69fa76",
   "metadata": {},
   "outputs": [
    {
     "name": "stdout",
     "output_type": "stream",
     "text": [
      "Instruments: ['vocals', 'other']\n",
      "Use augmentation for training\n",
      "Loading songs data from cache: Results/metadata_train.pkl. If you updated dataset remove metadata_train.pkl before training!\n",
      "Found tracks in dataset: 80\n",
      "Start from checkpoint: Results/model_htdemucs(after prune).ckpt\n",
      "Use single GPU: [0]\n",
      "Patience: 2 Reduce factor: 0.95 Batch size: 8 Grad accum steps: 1 Effective batch size: 8\n",
      "Train for: 1000\n",
      "Train epoch: 0 Learning rate: 9e-05\n"
     ]
    },
    {
     "name": "stderr",
     "output_type": "stream",
     "text": [
      "100%|██████████| 1000/1000 [20:40<00:00,  1.24s/it, loss=0.0306, avg_loss=nan]\n"
     ]
    },
    {
     "name": "stdout",
     "output_type": "stream",
     "text": [
      "Training loss: nan\n"
     ]
    },
    {
     "name": "stderr",
     "output_type": "stream",
     "text": [
      "100%|██████████| 20/20 [01:32<00:00,  4.61s/it, sdr_vocals=6.59, sdr_other=17.5]\n"
     ]
    },
    {
     "name": "stdout",
     "output_type": "stream",
     "text": [
      "Instr SDR vocals: 9.0994\n",
      "Instr SDR other: 15.5380\n",
      "SDR Avg: 12.3187\n",
      "Store weights: Results/model_htdemucs_ep_0_sdr_12.3187.ckpt\n",
      "Train epoch: 1 Learning rate: 9e-05\n"
     ]
    },
    {
     "name": "stderr",
     "output_type": "stream",
     "text": [
      "100%|██████████| 1000/1000 [22:01<00:00,  1.32s/it, loss=0.0193, avg_loss=0.0156]\n"
     ]
    },
    {
     "name": "stdout",
     "output_type": "stream",
     "text": [
      "Training loss: 0.000156\n"
     ]
    },
    {
     "name": "stderr",
     "output_type": "stream",
     "text": [
      "100%|██████████| 20/20 [01:39<00:00,  4.98s/it, sdr_vocals=6.65, sdr_other=17.6]\n"
     ]
    },
    {
     "name": "stdout",
     "output_type": "stream",
     "text": [
      "Instr SDR vocals: 9.3143\n",
      "Instr SDR other: 15.7579\n",
      "SDR Avg: 12.5361\n",
      "Store weights: Results/model_htdemucs_ep_1_sdr_12.5361.ckpt\n",
      "Train epoch: 2 Learning rate: 9e-05\n"
     ]
    },
    {
     "name": "stderr",
     "output_type": "stream",
     "text": [
      "100%|██████████| 1000/1000 [24:11<00:00,  1.45s/it, loss=0.0163, avg_loss=0.0148]\n"
     ]
    },
    {
     "name": "stdout",
     "output_type": "stream",
     "text": [
      "Training loss: 0.000148\n"
     ]
    },
    {
     "name": "stderr",
     "output_type": "stream",
     "text": [
      "100%|██████████| 20/20 [01:22<00:00,  4.14s/it, sdr_vocals=6.66, sdr_other=17.6]\n"
     ]
    },
    {
     "name": "stdout",
     "output_type": "stream",
     "text": [
      "Instr SDR vocals: 9.4119\n",
      "Instr SDR other: 15.8602\n",
      "SDR Avg: 12.6360\n",
      "Store weights: Results/model_htdemucs_ep_2_sdr_12.6360.ckpt\n",
      "Train epoch: 3 Learning rate: 9e-05\n"
     ]
    },
    {
     "name": "stderr",
     "output_type": "stream",
     "text": [
      "100%|██████████| 1000/1000 [27:05<00:00,  1.63s/it, loss=0.0137, avg_loss=0.0149]\n"
     ]
    },
    {
     "name": "stdout",
     "output_type": "stream",
     "text": [
      "Training loss: 0.000149\n"
     ]
    },
    {
     "name": "stderr",
     "output_type": "stream",
     "text": [
      "100%|██████████| 20/20 [01:31<00:00,  4.57s/it, sdr_vocals=6.62, sdr_other=17.6]\n"
     ]
    },
    {
     "name": "stdout",
     "output_type": "stream",
     "text": [
      "Instr SDR vocals: 9.4898\n",
      "Instr SDR other: 15.9385\n",
      "SDR Avg: 12.7142\n",
      "Store weights: Results/model_htdemucs_ep_3_sdr_12.7142.ckpt\n",
      "Train epoch: 4 Learning rate: 9e-05\n"
     ]
    },
    {
     "name": "stderr",
     "output_type": "stream",
     "text": [
      "100%|██████████| 1000/1000 [29:47<00:00,  1.79s/it, loss=0.0102, avg_loss=0.0141]\n"
     ]
    },
    {
     "name": "stdout",
     "output_type": "stream",
     "text": [
      "Training loss: 0.000141\n"
     ]
    },
    {
     "name": "stderr",
     "output_type": "stream",
     "text": [
      "100%|██████████| 20/20 [01:37<00:00,  4.87s/it, sdr_vocals=6.67, sdr_other=17.6]\n"
     ]
    },
    {
     "name": "stdout",
     "output_type": "stream",
     "text": [
      "Instr SDR vocals: 9.4921\n",
      "Instr SDR other: 15.9421\n",
      "SDR Avg: 12.7171\n",
      "Store weights: Results/model_htdemucs_ep_4_sdr_12.7171.ckpt\n",
      "Train epoch: 5 Learning rate: 9e-05\n"
     ]
    },
    {
     "name": "stderr",
     "output_type": "stream",
     "text": [
      "100%|██████████| 1000/1000 [31:13<00:00,  1.87s/it, loss=0.0176, avg_loss=0.0141] \n"
     ]
    },
    {
     "name": "stdout",
     "output_type": "stream",
     "text": [
      "Training loss: 0.000141\n"
     ]
    },
    {
     "name": "stderr",
     "output_type": "stream",
     "text": [
      "100%|██████████| 20/20 [01:40<00:00,  5.04s/it, sdr_vocals=6.46, sdr_other=17.4]\n"
     ]
    },
    {
     "name": "stdout",
     "output_type": "stream",
     "text": [
      "Instr SDR vocals: 9.4705\n",
      "Instr SDR other: 15.9180\n",
      "SDR Avg: 12.6943\n",
      "Train epoch: 6 Learning rate: 9e-05\n"
     ]
    },
    {
     "name": "stderr",
     "output_type": "stream",
     "text": [
      "100%|██████████| 1000/1000 [31:59<00:00,  1.92s/it, loss=0.0205, avg_loss=0.0135]\n"
     ]
    },
    {
     "name": "stdout",
     "output_type": "stream",
     "text": [
      "Training loss: 0.000135\n"
     ]
    },
    {
     "name": "stderr",
     "output_type": "stream",
     "text": [
      "100%|██████████| 20/20 [01:43<00:00,  5.17s/it, sdr_vocals=6.41, sdr_other=17.4]\n"
     ]
    },
    {
     "name": "stdout",
     "output_type": "stream",
     "text": [
      "Instr SDR vocals: 9.5082\n",
      "Instr SDR other: 15.9574\n",
      "SDR Avg: 12.7328\n",
      "Store weights: Results/model_htdemucs_ep_6_sdr_12.7328.ckpt\n",
      "Train epoch: 7 Learning rate: 9e-05\n"
     ]
    },
    {
     "name": "stderr",
     "output_type": "stream",
     "text": [
      "100%|██████████| 1000/1000 [30:23<00:00,  1.82s/it, loss=0.0101, avg_loss=0.0133] \n"
     ]
    },
    {
     "name": "stdout",
     "output_type": "stream",
     "text": [
      "Training loss: 0.000133\n"
     ]
    },
    {
     "name": "stderr",
     "output_type": "stream",
     "text": [
      "100%|██████████| 20/20 [01:30<00:00,  4.52s/it, sdr_vocals=6.55, sdr_other=17.5]\n"
     ]
    },
    {
     "name": "stdout",
     "output_type": "stream",
     "text": [
      "Instr SDR vocals: 9.6606\n",
      "Instr SDR other: 16.1117\n",
      "SDR Avg: 12.8862\n",
      "Store weights: Results/model_htdemucs_ep_7_sdr_12.8862.ckpt\n",
      "Train epoch: 8 Learning rate: 9e-05\n"
     ]
    },
    {
     "name": "stderr",
     "output_type": "stream",
     "text": [
      "100%|██████████| 1000/1000 [28:25<00:00,  1.71s/it, loss=0.0174, avg_loss=0.0133]\n"
     ]
    },
    {
     "name": "stdout",
     "output_type": "stream",
     "text": [
      "Training loss: 0.000133\n"
     ]
    },
    {
     "name": "stderr",
     "output_type": "stream",
     "text": [
      "100%|██████████| 20/20 [01:33<00:00,  4.69s/it, sdr_vocals=6.44, sdr_other=17.4]\n"
     ]
    },
    {
     "name": "stdout",
     "output_type": "stream",
     "text": [
      "Instr SDR vocals: 9.6645\n",
      "Instr SDR other: 16.1150\n",
      "SDR Avg: 12.8897\n",
      "Store weights: Results/model_htdemucs_ep_8_sdr_12.8897.ckpt\n",
      "Train epoch: 9 Learning rate: 9e-05\n"
     ]
    },
    {
     "name": "stderr",
     "output_type": "stream",
     "text": [
      "100%|██████████| 1000/1000 [27:44<00:00,  1.66s/it, loss=0.0196, avg_loss=0.0133]\n"
     ]
    },
    {
     "name": "stdout",
     "output_type": "stream",
     "text": [
      "Training loss: 0.000133\n"
     ]
    },
    {
     "name": "stderr",
     "output_type": "stream",
     "text": [
      "100%|██████████| 20/20 [01:30<00:00,  4.52s/it, sdr_vocals=6.44, sdr_other=17.4]\n"
     ]
    },
    {
     "name": "stdout",
     "output_type": "stream",
     "text": [
      "Instr SDR vocals: 9.6309\n",
      "Instr SDR other: 16.0797\n",
      "SDR Avg: 12.8553\n",
      "Train epoch: 10 Learning rate: 9e-05\n"
     ]
    },
    {
     "name": "stderr",
     "output_type": "stream",
     "text": [
      "100%|██████████| 1000/1000 [27:18<00:00,  1.64s/it, loss=0.0204, avg_loss=0.0132]\n"
     ]
    },
    {
     "name": "stdout",
     "output_type": "stream",
     "text": [
      "Training loss: 0.000132\n"
     ]
    },
    {
     "name": "stderr",
     "output_type": "stream",
     "text": [
      "100%|██████████| 20/20 [01:26<00:00,  4.31s/it, sdr_vocals=6.38, sdr_other=17.3]\n"
     ]
    },
    {
     "name": "stdout",
     "output_type": "stream",
     "text": [
      "Instr SDR vocals: 9.6242\n",
      "Instr SDR other: 16.0754\n",
      "SDR Avg: 12.8498\n",
      "Train epoch: 11 Learning rate: 9e-05\n"
     ]
    },
    {
     "name": "stderr",
     "output_type": "stream",
     "text": [
      "100%|██████████| 1000/1000 [27:26<00:00,  1.65s/it, loss=0.0223, avg_loss=0.0131]\n"
     ]
    },
    {
     "name": "stdout",
     "output_type": "stream",
     "text": [
      "Training loss: 0.000131\n"
     ]
    },
    {
     "name": "stderr",
     "output_type": "stream",
     "text": [
      "100%|██████████| 20/20 [01:25<00:00,  4.29s/it, sdr_vocals=6.41, sdr_other=17.3]\n"
     ]
    },
    {
     "name": "stdout",
     "output_type": "stream",
     "text": [
      "Instr SDR vocals: 9.6298\n",
      "Instr SDR other: 16.0787\n",
      "SDR Avg: 12.8543\n",
      "Train epoch: 12 Learning rate: 8.55e-05\n"
     ]
    },
    {
     "name": "stderr",
     "output_type": "stream",
     "text": [
      "100%|██████████| 1000/1000 [27:18<00:00,  1.64s/it, loss=0.0092, avg_loss=0.013] \n"
     ]
    },
    {
     "name": "stdout",
     "output_type": "stream",
     "text": [
      "Training loss: 0.000130\n"
     ]
    },
    {
     "name": "stderr",
     "output_type": "stream",
     "text": [
      "100%|██████████| 20/20 [01:27<00:00,  4.36s/it, sdr_vocals=6.17, sdr_other=17.1]\n"
     ]
    },
    {
     "name": "stdout",
     "output_type": "stream",
     "text": [
      "Instr SDR vocals: 9.6058\n",
      "Instr SDR other: 16.0571\n",
      "SDR Avg: 12.8315\n",
      "Train epoch: 13 Learning rate: 8.55e-05\n"
     ]
    },
    {
     "name": "stderr",
     "output_type": "stream",
     "text": [
      "100%|██████████| 1000/1000 [26:53<00:00,  1.61s/it, loss=0.00858, avg_loss=0.0127]\n"
     ]
    },
    {
     "name": "stdout",
     "output_type": "stream",
     "text": [
      "Training loss: 0.000127\n"
     ]
    },
    {
     "name": "stderr",
     "output_type": "stream",
     "text": [
      "100%|██████████| 20/20 [01:26<00:00,  4.30s/it, sdr_vocals=6.08, sdr_other=17]  \n"
     ]
    },
    {
     "name": "stdout",
     "output_type": "stream",
     "text": [
      "Instr SDR vocals: 9.5691\n",
      "Instr SDR other: 16.0185\n",
      "SDR Avg: 12.7938\n",
      "Train epoch: 14 Learning rate: 8.55e-05\n"
     ]
    },
    {
     "name": "stderr",
     "output_type": "stream",
     "text": [
      "100%|██████████| 1000/1000 [26:33<00:00,  1.59s/it, loss=0.0104, avg_loss=0.0127]\n"
     ]
    },
    {
     "name": "stdout",
     "output_type": "stream",
     "text": [
      "Training loss: 0.000127\n"
     ]
    },
    {
     "name": "stderr",
     "output_type": "stream",
     "text": [
      "100%|██████████| 20/20 [01:20<00:00,  4.02s/it, sdr_vocals=6.26, sdr_other=17.2]\n"
     ]
    },
    {
     "name": "stdout",
     "output_type": "stream",
     "text": [
      "Instr SDR vocals: 9.5853\n",
      "Instr SDR other: 16.0341\n",
      "SDR Avg: 12.8097\n",
      "Train epoch: 15 Learning rate: 8.1225e-05\n"
     ]
    },
    {
     "name": "stderr",
     "output_type": "stream",
     "text": [
      "100%|██████████| 1000/1000 [27:24<00:00,  1.64s/it, loss=0.0103, avg_loss=0.0126]\n"
     ]
    },
    {
     "name": "stdout",
     "output_type": "stream",
     "text": [
      "Training loss: 0.000126\n"
     ]
    },
    {
     "name": "stderr",
     "output_type": "stream",
     "text": [
      "100%|██████████| 20/20 [01:22<00:00,  4.13s/it, sdr_vocals=6.61, sdr_other=17.6]\n"
     ]
    },
    {
     "name": "stdout",
     "output_type": "stream",
     "text": [
      "Instr SDR vocals: 9.6118\n",
      "Instr SDR other: 16.0598\n",
      "SDR Avg: 12.8358\n",
      "Train epoch: 16 Learning rate: 8.1225e-05\n"
     ]
    },
    {
     "name": "stderr",
     "output_type": "stream",
     "text": [
      "100%|██████████| 1000/1000 [28:08<00:00,  1.69s/it, loss=0.00692, avg_loss=0.0127]\n"
     ]
    },
    {
     "name": "stdout",
     "output_type": "stream",
     "text": [
      "Training loss: 0.000127\n"
     ]
    },
    {
     "name": "stderr",
     "output_type": "stream",
     "text": [
      "100%|██████████| 20/20 [01:24<00:00,  4.21s/it, sdr_vocals=6.04, sdr_other=17]  \n"
     ]
    },
    {
     "name": "stdout",
     "output_type": "stream",
     "text": [
      "Instr SDR vocals: 9.5822\n",
      "Instr SDR other: 16.0360\n",
      "SDR Avg: 12.8091\n",
      "Train epoch: 17 Learning rate: 8.1225e-05\n"
     ]
    },
    {
     "name": "stderr",
     "output_type": "stream",
     "text": [
      "100%|██████████| 1000/1000 [27:32<00:00,  1.65s/it, loss=0.0143, avg_loss=0.0127]\n"
     ]
    },
    {
     "name": "stdout",
     "output_type": "stream",
     "text": [
      "Training loss: 0.000127\n"
     ]
    },
    {
     "name": "stderr",
     "output_type": "stream",
     "text": [
      "100%|██████████| 20/20 [01:27<00:00,  4.36s/it, sdr_vocals=6.73, sdr_other=17.7]\n"
     ]
    },
    {
     "name": "stdout",
     "output_type": "stream",
     "text": [
      "Instr SDR vocals: 9.6498\n",
      "Instr SDR other: 16.1003\n",
      "SDR Avg: 12.8751\n",
      "Train epoch: 18 Learning rate: 7.716374999999999e-05\n"
     ]
    },
    {
     "name": "stderr",
     "output_type": "stream",
     "text": [
      "100%|██████████| 1000/1000 [26:03<00:00,  1.56s/it, loss=0.00889, avg_loss=0.0122]\n"
     ]
    },
    {
     "name": "stdout",
     "output_type": "stream",
     "text": [
      "Training loss: 0.000122\n"
     ]
    },
    {
     "name": "stderr",
     "output_type": "stream",
     "text": [
      "100%|██████████| 20/20 [01:22<00:00,  4.14s/it, sdr_vocals=6.45, sdr_other=17.4]\n"
     ]
    },
    {
     "name": "stdout",
     "output_type": "stream",
     "text": [
      "Instr SDR vocals: 9.6400\n",
      "Instr SDR other: 16.0926\n",
      "SDR Avg: 12.8663\n",
      "Train epoch: 19 Learning rate: 7.716374999999999e-05\n"
     ]
    },
    {
     "name": "stderr",
     "output_type": "stream",
     "text": [
      "100%|██████████| 1000/1000 [25:27<00:00,  1.53s/it, loss=0.0156, avg_loss=0.0123]\n"
     ]
    },
    {
     "name": "stdout",
     "output_type": "stream",
     "text": [
      "Training loss: 0.000123\n"
     ]
    },
    {
     "name": "stderr",
     "output_type": "stream",
     "text": [
      "100%|██████████| 20/20 [01:30<00:00,  4.54s/it, sdr_vocals=6.07, sdr_other=17]  \n"
     ]
    },
    {
     "name": "stdout",
     "output_type": "stream",
     "text": [
      "Instr SDR vocals: 9.5239\n",
      "Instr SDR other: 15.9783\n",
      "SDR Avg: 12.7511\n",
      "Train epoch: 20 Learning rate: 7.716374999999999e-05\n"
     ]
    },
    {
     "name": "stderr",
     "output_type": "stream",
     "text": [
      " 43%|████▎     | 432/1000 [10:18<14:25,  1.52s/it, loss=0.0196, avg_loss=0.0123] "
     ]
    }
   ],
   "source": [
    "train_model(cfg)"
   ]
  }
 ],
 "metadata": {
  "kernelspec": {
   "display_name": "Python 3 (ipykernel)",
   "language": "python",
   "name": "python3"
  },
  "language_info": {
   "codemirror_mode": {
    "name": "ipython",
    "version": 3
   },
   "file_extension": ".py",
   "mimetype": "text/x-python",
   "name": "python",
   "nbconvert_exporter": "python",
   "pygments_lexer": "ipython3",
   "version": "3.9.19"
  }
 },
 "nbformat": 4,
 "nbformat_minor": 5
}
